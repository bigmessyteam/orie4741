{
 "cells": [
  {
   "cell_type": "code",
   "execution_count": 1,
   "metadata": {
    "collapsed": false
   },
   "outputs": [],
   "source": [
    "using DataFrames\n",
    "using PyPlot\n",
    "#using Gadfly"
   ]
  },
  {
   "cell_type": "code",
   "execution_count": 3,
   "metadata": {
    "collapsed": false
   },
   "outputs": [
    {
     "data": {
      "text/html": [
       "<table class=\"data-frame\"><tr><th></th><th>x</th><th>srch_id</th><th>date_time</th><th>site_id</th><th>visitor_location_country_id</th><th>visitor_hist_starrating</th><th>visitor_hist_adr_usd</th><th>prop_country_id</th><th>prop_id</th><th>prop_starrating</th><th>prop_review_score</th><th>prop_brand_bool</th><th>prop_location_score1</th><th>prop_log_historical_price</th><th>position</th><th>price_usd</th><th>promotion_flag</th><th>srch_destination_id</th><th>srch_length_of_stay</th><th>srch_booking_window</th><th>srch_adults_count</th><th>srch_children_count</th><th>srch_room_count</th><th>srch_saturday_night_bool</th><th>orig_destination_distance</th><th>random_bool</th><th>click_bool</th><th>gross_bookings_usd</th><th>booking_bool</th></tr><tr><th>1</th><td>550</td><td>47</td><td>2013-01-14 22:28:43</td><td>14</td><td>100</td><td>4.31</td><td>180.75</td><td>137</td><td>6618</td><td>3</td><td>4.0</td><td>0</td><td>4.13</td><td>4.78</td><td>25</td><td>118.94</td><td>0</td><td>13901</td><td>6</td><td>3</td><td>1</td><td>1</td><td>1</td><td>0</td><td>5592.09</td><td>0</td><td>0</td><td>NA</td><td>0</td></tr><tr><th>2</th><td>551</td><td>47</td><td>2013-01-14 22:28:43</td><td>14</td><td>100</td><td>4.31</td><td>180.75</td><td>137</td><td>11747</td><td>4</td><td>4.5</td><td>0</td><td>4.03</td><td>5.34</td><td>12</td><td>113.86</td><td>0</td><td>13901</td><td>6</td><td>3</td><td>1</td><td>1</td><td>1</td><td>0</td><td>5592.33</td><td>0</td><td>0</td><td>NA</td><td>0</td></tr><tr><th>3</th><td>552</td><td>47</td><td>2013-01-14 22:28:43</td><td>14</td><td>100</td><td>4.31</td><td>180.75</td><td>137</td><td>18311</td><td>4</td><td>4.0</td><td>0</td><td>3.93</td><td>5.44</td><td>14</td><td>129.1</td><td>0</td><td>13901</td><td>6</td><td>3</td><td>1</td><td>1</td><td>1</td><td>0</td><td>5592.6</td><td>0</td><td>0</td><td>NA</td><td>0</td></tr><tr><th>4</th><td>553</td><td>47</td><td>2013-01-14 22:28:43</td><td>14</td><td>100</td><td>4.31</td><td>180.75</td><td>137</td><td>19599</td><td>3</td><td>4.0</td><td>0</td><td>4.16</td><td>5.03</td><td>26</td><td>94.54</td><td>0</td><td>13901</td><td>6</td><td>3</td><td>1</td><td>1</td><td>1</td><td>0</td><td>5591.92</td><td>0</td><td>0</td><td>NA</td><td>0</td></tr><tr><th>5</th><td>554</td><td>47</td><td>2013-01-14 22:28:43</td><td>14</td><td>100</td><td>4.31</td><td>180.75</td><td>137</td><td>24002</td><td>4</td><td>4.5</td><td>0</td><td>4.16</td><td>5.6</td><td>3</td><td>185.02</td><td>0</td><td>13901</td><td>6</td><td>3</td><td>1</td><td>1</td><td>1</td><td>0</td><td>5592.13</td><td>0</td><td>0</td><td>NA</td><td>0</td></tr><tr><th>6</th><td>555</td><td>47</td><td>2013-01-14 22:28:43</td><td>14</td><td>100</td><td>4.31</td><td>180.75</td><td>137</td><td>29732</td><td>3</td><td>3.5</td><td>0</td><td>2.83</td><td>4.69</td><td>31</td><td>59.98</td><td>0</td><td>13901</td><td>6</td><td>3</td><td>1</td><td>1</td><td>1</td><td>0</td><td>5593.31</td><td>0</td><td>0</td><td>NA</td><td>0</td></tr><tr><th>7</th><td>556</td><td>47</td><td>2013-01-14 22:28:43</td><td>14</td><td>100</td><td>4.31</td><td>180.75</td><td>137</td><td>35796</td><td>3</td><td>3.5</td><td>0</td><td>2.64</td><td>5.0</td><td>27</td><td>97.59</td><td>0</td><td>13901</td><td>6</td><td>3</td><td>1</td><td>1</td><td>1</td><td>0</td><td>5590.9</td><td>0</td><td>0</td><td>NA</td><td>0</td></tr><tr><th>8</th><td>557</td><td>47</td><td>2013-01-14 22:28:43</td><td>14</td><td>100</td><td>4.31</td><td>180.75</td><td>137</td><td>36148</td><td>3</td><td>3.5</td><td>0</td><td>4.06</td><td>4.84</td><td>34</td><td>74.21</td><td>0</td><td>13901</td><td>6</td><td>3</td><td>1</td><td>1</td><td>1</td><td>0</td><td>5592.39</td><td>0</td><td>0</td><td>NA</td><td>0</td></tr><tr><th>9</th><td>558</td><td>47</td><td>2013-01-14 22:28:43</td><td>14</td><td>100</td><td>4.31</td><td>180.75</td><td>137</td><td>41784</td><td>4</td><td>3.0</td><td>1</td><td>2.3</td><td>5.15</td><td>22</td><td>142.32</td><td>0</td><td>13901</td><td>6</td><td>3</td><td>1</td><td>1</td><td>1</td><td>0</td><td>5591.13</td><td>0</td><td>0</td><td>NA</td><td>0</td></tr><tr><th>10</th><td>559</td><td>47</td><td>2013-01-14 22:28:43</td><td>14</td><td>100</td><td>4.31</td><td>180.75</td><td>137</td><td>43781</td><td>4</td><td>3.5</td><td>1</td><td>3.99</td><td>5.21</td><td>6</td><td>109.79</td><td>0</td><td>13901</td><td>6</td><td>3</td><td>1</td><td>1</td><td>1</td><td>0</td><td>5592.02</td><td>0</td><td>0</td><td>NA</td><td>0</td></tr><tr><th>11</th><td>560</td><td>47</td><td>2013-01-14 22:28:43</td><td>14</td><td>100</td><td>4.31</td><td>180.75</td><td>137</td><td>51037</td><td>3</td><td>3.5</td><td>0</td><td>3.64</td><td>5.03</td><td>30</td><td>86.41</td><td>1</td><td>13901</td><td>6</td><td>3</td><td>1</td><td>1</td><td>1</td><td>0</td><td>5591.25</td><td>0</td><td>0</td><td>NA</td><td>0</td></tr><tr><th>12</th><td>561</td><td>47</td><td>2013-01-14 22:28:43</td><td>14</td><td>100</td><td>4.31</td><td>180.75</td><td>137</td><td>54593</td><td>3</td><td>3.5</td><td>0</td><td>3.97</td><td>5.03</td><td>29</td><td>121.99</td><td>0</td><td>13901</td><td>6</td><td>3</td><td>1</td><td>1</td><td>1</td><td>0</td><td>5591.99</td><td>0</td><td>0</td><td>NA</td><td>0</td></tr><tr><th>13</th><td>562</td><td>47</td><td>2013-01-14 22:28:43</td><td>14</td><td>100</td><td>4.31</td><td>180.75</td><td>137</td><td>55632</td><td>5</td><td>4.5</td><td>0</td><td>4.17</td><td>6.21</td><td>13</td><td>330.39</td><td>1</td><td>13901</td><td>6</td><td>3</td><td>1</td><td>1</td><td>1</td><td>0</td><td>5592.41</td><td>0</td><td>0</td><td>NA</td><td>0</td></tr><tr><th>14</th><td>563</td><td>47</td><td>2013-01-14 22:28:43</td><td>14</td><td>100</td><td>4.31</td><td>180.75</td><td>137</td><td>57599</td><td>5</td><td>3.0</td><td>0</td><td>2.89</td><td>5.36</td><td>15</td><td>142.32</td><td>0</td><td>13901</td><td>6</td><td>3</td><td>1</td><td>1</td><td>1</td><td>0</td><td>5591.91</td><td>0</td><td>0</td><td>NA</td><td>0</td></tr><tr><th>15</th><td>564</td><td>47</td><td>2013-01-14 22:28:43</td><td>14</td><td>100</td><td>4.31</td><td>180.75</td><td>137</td><td>59720</td><td>5</td><td>4.0</td><td>0</td><td>3.93</td><td>5.58</td><td>2</td><td>167.73</td><td>0</td><td>13901</td><td>6</td><td>3</td><td>1</td><td>1</td><td>1</td><td>0</td><td>5592.6</td><td>0</td><td>0</td><td>NA</td><td>0</td></tr><tr><th>16</th><td>565</td><td>47</td><td>2013-01-14 22:28:43</td><td>14</td><td>100</td><td>4.31</td><td>180.75</td><td>137</td><td>60258</td><td>5</td><td>3.5</td><td>0</td><td>4.17</td><td>6.21</td><td>1</td><td>370.03</td><td>1</td><td>13901</td><td>6</td><td>3</td><td>1</td><td>1</td><td>1</td><td>0</td><td>5592.43</td><td>0</td><td>0</td><td>NA</td><td>0</td></tr><tr><th>17</th><td>566</td><td>47</td><td>2013-01-14 22:28:43</td><td>14</td><td>100</td><td>4.31</td><td>180.75</td><td>137</td><td>60787</td><td>4</td><td>0.0</td><td>0</td><td>3.97</td><td>4.79</td><td>35</td><td>75.23</td><td>0</td><td>13901</td><td>6</td><td>3</td><td>1</td><td>1</td><td>1</td><td>0</td><td>5592.5</td><td>0</td><td>0</td><td>NA</td><td>0</td></tr><tr><th>18</th><td>567</td><td>47</td><td>2013-01-14 22:28:43</td><td>14</td><td>100</td><td>4.31</td><td>180.75</td><td>137</td><td>73043</td><td>3</td><td>3.5</td><td>0</td><td>2.56</td><td>5.03</td><td>33</td><td>88.44</td><td>0</td><td>13901</td><td>6</td><td>3</td><td>1</td><td>1</td><td>1</td><td>0</td><td>5593.29</td><td>0</td><td>0</td><td>NA</td><td>0</td></tr><tr><th>19</th><td>568</td><td>47</td><td>2013-01-14 22:28:43</td><td>14</td><td>100</td><td>4.31</td><td>180.75</td><td>137</td><td>77040</td><td>4</td><td>4.0</td><td>0</td><td>3.14</td><td>5.39</td><td>16</td><td>153.5</td><td>0</td><td>13901</td><td>6</td><td>3</td><td>1</td><td>1</td><td>1</td><td>0</td><td>5593.11</td><td>0</td><td>1</td><td>924.0</td><td>1</td></tr><tr><th>20</th><td>569</td><td>47</td><td>2013-01-14 22:28:43</td><td>14</td><td>100</td><td>4.31</td><td>180.75</td><td>137</td><td>78074</td><td>4</td><td>3.5</td><td>0</td><td>4.06</td><td>5.24</td><td>9</td><td>134.19</td><td>1</td><td>13901</td><td>6</td><td>3</td><td>1</td><td>1</td><td>1</td><td>0</td><td>5592.51</td><td>0</td><td>0</td><td>NA</td><td>0</td></tr><tr><th>21</th><td>570</td><td>47</td><td>2013-01-14 22:28:43</td><td>14</td><td>100</td><td>4.31</td><td>180.75</td><td>137</td><td>79610</td><td>4</td><td>4.0</td><td>0</td><td>3.56</td><td>5.62</td><td>10</td><td>178.92</td><td>0</td><td>13901</td><td>6</td><td>3</td><td>1</td><td>1</td><td>1</td><td>0</td><td>5593.02</td><td>0</td><td>0</td><td>NA</td><td>0</td></tr><tr><th>22</th><td>571</td><td>47</td><td>2013-01-14 22:28:43</td><td>14</td><td>100</td><td>4.31</td><td>180.75</td><td>137</td><td>80992</td><td>3</td><td>3.5</td><td>0</td><td>3.89</td><td>5.03</td><td>28</td><td>133.17</td><td>0</td><td>13901</td><td>6</td><td>3</td><td>1</td><td>1</td><td>1</td><td>0</td><td>5592.49</td><td>0</td><td>0</td><td>NA</td><td>0</td></tr><tr><th>23</th><td>572</td><td>47</td><td>2013-01-14 22:28:43</td><td>14</td><td>100</td><td>4.31</td><td>180.75</td><td>137</td><td>95676</td><td>4</td><td>4.0</td><td>0</td><td>2.89</td><td>4.96</td><td>7</td><td>82.34</td><td>1</td><td>13901</td><td>6</td><td>3</td><td>1</td><td>1</td><td>1</td><td>0</td><td>5592.87</td><td>0</td><td>0</td><td>NA</td><td>0</td></tr><tr><th>24</th><td>573</td><td>47</td><td>2013-01-14 22:28:43</td><td>14</td><td>100</td><td>4.31</td><td>180.75</td><td>137</td><td>104491</td><td>3</td><td>5.0</td><td>0</td><td>4.19</td><td>5.49</td><td>19</td><td>179.93</td><td>0</td><td>13901</td><td>6</td><td>3</td><td>1</td><td>1</td><td>1</td><td>0</td><td>5592.45</td><td>0</td><td>0</td><td>NA</td><td>0</td></tr><tr><th>25</th><td>574</td><td>47</td><td>2013-01-14 22:28:43</td><td>14</td><td>100</td><td>4.31</td><td>180.75</td><td>137</td><td>108238</td><td>3</td><td>4.5</td><td>0</td><td>3.87</td><td>4.96</td><td>24</td><td>135.2</td><td>0</td><td>13901</td><td>6</td><td>3</td><td>1</td><td>1</td><td>1</td><td>0</td><td>5592.22</td><td>0</td><td>0</td><td>NA</td><td>0</td></tr><tr><th>26</th><td>575</td><td>47</td><td>2013-01-14 22:28:43</td><td>14</td><td>100</td><td>4.31</td><td>180.75</td><td>137</td><td>108569</td><td>4</td><td>3.0</td><td>0</td><td>2.4</td><td>5.13</td><td>32</td><td>109.79</td><td>0</td><td>13901</td><td>6</td><td>3</td><td>1</td><td>1</td><td>1</td><td>0</td><td>5591.07</td><td>0</td><td>0</td><td>NA</td><td>0</td></tr><tr><th>27</th><td>576</td><td>47</td><td>2013-01-14 22:28:43</td><td>14</td><td>100</td><td>4.31</td><td>180.75</td><td>137</td><td>117266</td><td>4</td><td>3.5</td><td>0</td><td>4.01</td><td>5.13</td><td>8</td><td>123.0</td><td>0</td><td>13901</td><td>6</td><td>3</td><td>1</td><td>1</td><td>1</td><td>0</td><td>5592.03</td><td>0</td><td>0</td><td>NA</td><td>0</td></tr><tr><th>28</th><td>577</td><td>47</td><td>2013-01-14 22:28:43</td><td>14</td><td>100</td><td>4.31</td><td>180.75</td><td>137</td><td>123573</td><td>5</td><td>3.5</td><td>1</td><td>3.93</td><td>5.6</td><td>4</td><td>251.09</td><td>1</td><td>13901</td><td>6</td><td>3</td><td>1</td><td>1</td><td>1</td><td>0</td><td>5592.27</td><td>0</td><td>0</td><td>NA</td><td>0</td></tr><tr><th>29</th><td>578</td><td>47</td><td>2013-01-14 22:28:43</td><td>14</td><td>100</td><td>4.31</td><td>180.75</td><td>137</td><td>126620</td><td>3</td><td>4.0</td><td>0</td><td>2.08</td><td>5.03</td><td>21</td><td>88.44</td><td>0</td><td>13901</td><td>6</td><td>3</td><td>1</td><td>1</td><td>1</td><td>0</td><td>5593.47</td><td>0</td><td>0</td><td>NA</td><td>0</td></tr><tr><th>30</th><td>579</td><td>47</td><td>2013-01-14 22:28:43</td><td>14</td><td>100</td><td>4.31</td><td>180.75</td><td>137</td><td>128007</td><td>5</td><td>4.5</td><td>0</td><td>3.99</td><td>5.81</td><td>20</td><td>370.03</td><td>1</td><td>13901</td><td>6</td><td>3</td><td>1</td><td>1</td><td>1</td><td>0</td><td>5592.06</td><td>0</td><td>0</td><td>NA</td><td>0</td></tr><tr><th>&vellip;</th><td>&vellip;</td><td>&vellip;</td><td>&vellip;</td><td>&vellip;</td><td>&vellip;</td><td>&vellip;</td><td>&vellip;</td><td>&vellip;</td><td>&vellip;</td><td>&vellip;</td><td>&vellip;</td><td>&vellip;</td><td>&vellip;</td><td>&vellip;</td><td>&vellip;</td><td>&vellip;</td><td>&vellip;</td><td>&vellip;</td><td>&vellip;</td><td>&vellip;</td><td>&vellip;</td><td>&vellip;</td><td>&vellip;</td><td>&vellip;</td><td>&vellip;</td><td>&vellip;</td><td>&vellip;</td><td>&vellip;</td><td>&vellip;</td></tr></table>"
      ],
      "text/plain": [
       "306727×29 DataFrames.DataFrame\n",
       "│ Row    │ x       │ srch_id │ date_time             │ site_id │\n",
       "├────────┼─────────┼─────────┼───────────────────────┼─────────┤\n",
       "│ 1      │ 550     │ 47      │ \"2013-01-14 22:28:43\" │ 14      │\n",
       "│ 2      │ 551     │ 47      │ \"2013-01-14 22:28:43\" │ 14      │\n",
       "│ 3      │ 552     │ 47      │ \"2013-01-14 22:28:43\" │ 14      │\n",
       "│ 4      │ 553     │ 47      │ \"2013-01-14 22:28:43\" │ 14      │\n",
       "│ 5      │ 554     │ 47      │ \"2013-01-14 22:28:43\" │ 14      │\n",
       "│ 6      │ 555     │ 47      │ \"2013-01-14 22:28:43\" │ 14      │\n",
       "│ 7      │ 556     │ 47      │ \"2013-01-14 22:28:43\" │ 14      │\n",
       "│ 8      │ 557     │ 47      │ \"2013-01-14 22:28:43\" │ 14      │\n",
       "│ 9      │ 558     │ 47      │ \"2013-01-14 22:28:43\" │ 14      │\n",
       "│ 10     │ 559     │ 47      │ \"2013-01-14 22:28:43\" │ 14      │\n",
       "│ 11     │ 560     │ 47      │ \"2013-01-14 22:28:43\" │ 14      │\n",
       "⋮\n",
       "│ 306716 │ 9917202 │ 665554  │ \"2013-03-18 06:35:18\" │ 5       │\n",
       "│ 306717 │ 9917203 │ 665554  │ \"2013-03-18 06:35:18\" │ 5       │\n",
       "│ 306718 │ 9917204 │ 665554  │ \"2013-03-18 06:35:18\" │ 5       │\n",
       "│ 306719 │ 9917205 │ 665554  │ \"2013-03-18 06:35:18\" │ 5       │\n",
       "│ 306720 │ 9917206 │ 665554  │ \"2013-03-18 06:35:18\" │ 5       │\n",
       "│ 306721 │ 9917207 │ 665554  │ \"2013-03-18 06:35:18\" │ 5       │\n",
       "│ 306722 │ 9917208 │ 665554  │ \"2013-03-18 06:35:18\" │ 5       │\n",
       "│ 306723 │ 9917209 │ 665554  │ \"2013-03-18 06:35:18\" │ 5       │\n",
       "│ 306724 │ 9917210 │ 665554  │ \"2013-03-18 06:35:18\" │ 5       │\n",
       "│ 306725 │ 9917211 │ 665554  │ \"2013-03-18 06:35:18\" │ 5       │\n",
       "│ 306726 │ 9917212 │ 665554  │ \"2013-03-18 06:35:18\" │ 5       │\n",
       "│ 306727 │ 9917213 │ 665554  │ \"2013-03-18 06:35:18\" │ 5       │\n",
       "\n",
       "│ Row    │ visitor_location_country_id │ visitor_hist_starrating │\n",
       "├────────┼─────────────────────────────┼─────────────────────────┤\n",
       "│ 1      │ 100                         │ 4.31                    │\n",
       "│ 2      │ 100                         │ 4.31                    │\n",
       "│ 3      │ 100                         │ 4.31                    │\n",
       "│ 4      │ 100                         │ 4.31                    │\n",
       "│ 5      │ 100                         │ 4.31                    │\n",
       "│ 6      │ 100                         │ 4.31                    │\n",
       "│ 7      │ 100                         │ 4.31                    │\n",
       "│ 8      │ 100                         │ 4.31                    │\n",
       "│ 9      │ 100                         │ 4.31                    │\n",
       "│ 10     │ 100                         │ 4.31                    │\n",
       "│ 11     │ 100                         │ 4.31                    │\n",
       "⋮\n",
       "│ 306716 │ 219                         │ 2.42                    │\n",
       "│ 306717 │ 219                         │ 2.42                    │\n",
       "│ 306718 │ 219                         │ 2.42                    │\n",
       "│ 306719 │ 219                         │ 2.42                    │\n",
       "│ 306720 │ 219                         │ 2.42                    │\n",
       "│ 306721 │ 219                         │ 2.42                    │\n",
       "│ 306722 │ 219                         │ 2.42                    │\n",
       "│ 306723 │ 219                         │ 2.42                    │\n",
       "│ 306724 │ 219                         │ 2.42                    │\n",
       "│ 306725 │ 219                         │ 2.42                    │\n",
       "│ 306726 │ 219                         │ 2.42                    │\n",
       "│ 306727 │ 219                         │ 2.42                    │\n",
       "\n",
       "│ Row    │ visitor_hist_adr_usd │ prop_country_id │ prop_id │ prop_starrating │\n",
       "├────────┼──────────────────────┼─────────────────┼─────────┼─────────────────┤\n",
       "│ 1      │ 180.75               │ 137             │ 6618    │ 3               │\n",
       "│ 2      │ 180.75               │ 137             │ 11747   │ 4               │\n",
       "│ 3      │ 180.75               │ 137             │ 18311   │ 4               │\n",
       "│ 4      │ 180.75               │ 137             │ 19599   │ 3               │\n",
       "│ 5      │ 180.75               │ 137             │ 24002   │ 4               │\n",
       "│ 6      │ 180.75               │ 137             │ 29732   │ 3               │\n",
       "│ 7      │ 180.75               │ 137             │ 35796   │ 3               │\n",
       "│ 8      │ 180.75               │ 137             │ 36148   │ 3               │\n",
       "│ 9      │ 180.75               │ 137             │ 41784   │ 4               │\n",
       "│ 10     │ 180.75               │ 137             │ 43781   │ 4               │\n",
       "│ 11     │ 180.75               │ 137             │ 51037   │ 3               │\n",
       "⋮\n",
       "│ 306716 │ 103.21               │ 219             │ 93779   │ 2               │\n",
       "│ 306717 │ 103.21               │ 219             │ 97718   │ 3               │\n",
       "│ 306718 │ 103.21               │ 219             │ 101304  │ 4               │\n",
       "│ 306719 │ 103.21               │ 219             │ 113363  │ 3               │\n",
       "│ 306720 │ 103.21               │ 219             │ 113857  │ 3               │\n",
       "│ 306721 │ 103.21               │ 219             │ 116424  │ 2               │\n",
       "│ 306722 │ 103.21               │ 219             │ 121172  │ 3               │\n",
       "│ 306723 │ 103.21               │ 219             │ 128319  │ 3               │\n",
       "│ 306724 │ 103.21               │ 219             │ 129522  │ 5               │\n",
       "│ 306725 │ 103.21               │ 219             │ 136931  │ 4               │\n",
       "│ 306726 │ 103.21               │ 219             │ 137395  │ 3               │\n",
       "│ 306727 │ 103.21               │ 219             │ 140519  │ 3               │\n",
       "\n",
       "│ Row    │ prop_review_score │ prop_brand_bool │ prop_location_score1 │\n",
       "├────────┼───────────────────┼─────────────────┼──────────────────────┤\n",
       "│ 1      │ 4.0               │ 0               │ 4.13                 │\n",
       "│ 2      │ 4.5               │ 0               │ 4.03                 │\n",
       "│ 3      │ 4.0               │ 0               │ 3.93                 │\n",
       "│ 4      │ 4.0               │ 0               │ 4.16                 │\n",
       "│ 5      │ 4.5               │ 0               │ 4.16                 │\n",
       "│ 6      │ 3.5               │ 0               │ 2.83                 │\n",
       "│ 7      │ 3.5               │ 0               │ 2.64                 │\n",
       "│ 8      │ 3.5               │ 0               │ 4.06                 │\n",
       "│ 9      │ 3.0               │ 1               │ 2.3                  │\n",
       "│ 10     │ 3.5               │ 1               │ 3.99                 │\n",
       "│ 11     │ 3.5               │ 0               │ 3.64                 │\n",
       "⋮\n",
       "│ 306716 │ 3.0               │ 1               │ 1.39                 │\n",
       "│ 306717 │ 4.0               │ 1               │ 1.79                 │\n",
       "│ 306718 │ 4.5               │ 1               │ 2.83                 │\n",
       "│ 306719 │ 4.0               │ 1               │ 1.95                 │\n",
       "│ 306720 │ 5.0               │ 1               │ 2.64                 │\n",
       "│ 306721 │ 3.5               │ 1               │ 1.61                 │\n",
       "│ 306722 │ 4.0               │ 1               │ 0.0                  │\n",
       "│ 306723 │ 3.0               │ 1               │ 1.61                 │\n",
       "│ 306724 │ 5.0               │ 1               │ 2.89                 │\n",
       "│ 306725 │ 4.0               │ 1               │ 0.69                 │\n",
       "│ 306726 │ 4.5               │ 1               │ 1.61                 │\n",
       "│ 306727 │ 3.5               │ 1               │ 1.39                 │\n",
       "\n",
       "│ Row    │ prop_log_historical_price │ position │ price_usd │ promotion_flag │\n",
       "├────────┼───────────────────────────┼──────────┼───────────┼────────────────┤\n",
       "│ 1      │ 4.78                      │ 25       │ 118.94    │ 0              │\n",
       "│ 2      │ 5.34                      │ 12       │ 113.86    │ 0              │\n",
       "│ 3      │ 5.44                      │ 14       │ 129.1     │ 0              │\n",
       "│ 4      │ 5.03                      │ 26       │ 94.54     │ 0              │\n",
       "│ 5      │ 5.6                       │ 3        │ 185.02    │ 0              │\n",
       "│ 6      │ 4.69                      │ 31       │ 59.98     │ 0              │\n",
       "│ 7      │ 5.0                       │ 27       │ 97.59     │ 0              │\n",
       "│ 8      │ 4.84                      │ 34       │ 74.21     │ 0              │\n",
       "│ 9      │ 5.15                      │ 22       │ 142.32    │ 0              │\n",
       "│ 10     │ 5.21                      │ 6        │ 109.79    │ 0              │\n",
       "│ 11     │ 5.03                      │ 30       │ 86.41     │ 1              │\n",
       "⋮\n",
       "│ 306716 │ 4.61                      │ 20       │ 75.0      │ 0              │\n",
       "│ 306717 │ 5.29                      │ 18       │ 169.0     │ 0              │\n",
       "│ 306718 │ 5.57                      │ 10       │ 279.0     │ 0              │\n",
       "│ 306719 │ 5.34                      │ 14       │ 149.0     │ 0              │\n",
       "│ 306720 │ 5.58                      │ 19       │ 209.0     │ 0              │\n",
       "│ 306721 │ 4.49                      │ 26       │ 65.0      │ 0              │\n",
       "│ 306722 │ 4.8                       │ 28       │ 110.0     │ 0              │\n",
       "│ 306723 │ 4.75                      │ 8        │ 70.0      │ 0              │\n",
       "│ 306724 │ 5.88                      │ 6        │ 469.0     │ 0              │\n",
       "│ 306725 │ 5.15                      │ 30       │ 134.0     │ 0              │\n",
       "│ 306726 │ 5.07                      │ 33       │ 161.0     │ 0              │\n",
       "│ 306727 │ 4.68                      │ 13       │ 82.0      │ 0              │\n",
       "\n",
       "│ Row    │ srch_destination_id │ srch_length_of_stay │ srch_booking_window │\n",
       "├────────┼─────────────────────┼─────────────────────┼─────────────────────┤\n",
       "│ 1      │ 13901               │ 6                   │ 3                   │\n",
       "│ 2      │ 13901               │ 6                   │ 3                   │\n",
       "│ 3      │ 13901               │ 6                   │ 3                   │\n",
       "│ 4      │ 13901               │ 6                   │ 3                   │\n",
       "│ 5      │ 13901               │ 6                   │ 3                   │\n",
       "│ 6      │ 13901               │ 6                   │ 3                   │\n",
       "│ 7      │ 13901               │ 6                   │ 3                   │\n",
       "│ 8      │ 13901               │ 6                   │ 3                   │\n",
       "│ 9      │ 13901               │ 6                   │ 3                   │\n",
       "│ 10     │ 13901               │ 6                   │ 3                   │\n",
       "│ 11     │ 13901               │ 6                   │ 3                   │\n",
       "⋮\n",
       "│ 306716 │ 21494               │ 2                   │ 1                   │\n",
       "│ 306717 │ 21494               │ 2                   │ 1                   │\n",
       "│ 306718 │ 21494               │ 2                   │ 1                   │\n",
       "│ 306719 │ 21494               │ 2                   │ 1                   │\n",
       "│ 306720 │ 21494               │ 2                   │ 1                   │\n",
       "│ 306721 │ 21494               │ 2                   │ 1                   │\n",
       "│ 306722 │ 21494               │ 2                   │ 1                   │\n",
       "│ 306723 │ 21494               │ 2                   │ 1                   │\n",
       "│ 306724 │ 21494               │ 2                   │ 1                   │\n",
       "│ 306725 │ 21494               │ 2                   │ 1                   │\n",
       "│ 306726 │ 21494               │ 2                   │ 1                   │\n",
       "│ 306727 │ 21494               │ 2                   │ 1                   │\n",
       "\n",
       "│ Row    │ srch_adults_count │ srch_children_count │ srch_room_count │\n",
       "├────────┼───────────────────┼─────────────────────┼─────────────────┤\n",
       "│ 1      │ 1                 │ 1                   │ 1               │\n",
       "│ 2      │ 1                 │ 1                   │ 1               │\n",
       "│ 3      │ 1                 │ 1                   │ 1               │\n",
       "│ 4      │ 1                 │ 1                   │ 1               │\n",
       "│ 5      │ 1                 │ 1                   │ 1               │\n",
       "│ 6      │ 1                 │ 1                   │ 1               │\n",
       "│ 7      │ 1                 │ 1                   │ 1               │\n",
       "│ 8      │ 1                 │ 1                   │ 1               │\n",
       "│ 9      │ 1                 │ 1                   │ 1               │\n",
       "│ 10     │ 1                 │ 1                   │ 1               │\n",
       "│ 11     │ 1                 │ 1                   │ 1               │\n",
       "⋮\n",
       "│ 306716 │ 1                 │ 0                   │ 1               │\n",
       "│ 306717 │ 1                 │ 0                   │ 1               │\n",
       "│ 306718 │ 1                 │ 0                   │ 1               │\n",
       "│ 306719 │ 1                 │ 0                   │ 1               │\n",
       "│ 306720 │ 1                 │ 0                   │ 1               │\n",
       "│ 306721 │ 1                 │ 0                   │ 1               │\n",
       "│ 306722 │ 1                 │ 0                   │ 1               │\n",
       "│ 306723 │ 1                 │ 0                   │ 1               │\n",
       "│ 306724 │ 1                 │ 0                   │ 1               │\n",
       "│ 306725 │ 1                 │ 0                   │ 1               │\n",
       "│ 306726 │ 1                 │ 0                   │ 1               │\n",
       "│ 306727 │ 1                 │ 0                   │ 1               │\n",
       "\n",
       "│ Row    │ srch_saturday_night_bool │ orig_destination_distance │ random_bool │\n",
       "├────────┼──────────────────────────┼───────────────────────────┼─────────────┤\n",
       "│ 1      │ 0                        │ 5592.09                   │ 0           │\n",
       "│ 2      │ 0                        │ 5592.33                   │ 0           │\n",
       "│ 3      │ 0                        │ 5592.6                    │ 0           │\n",
       "│ 4      │ 0                        │ 5591.92                   │ 0           │\n",
       "│ 5      │ 0                        │ 5592.13                   │ 0           │\n",
       "│ 6      │ 0                        │ 5593.31                   │ 0           │\n",
       "│ 7      │ 0                        │ 5590.9                    │ 0           │\n",
       "│ 8      │ 0                        │ 5592.39                   │ 0           │\n",
       "│ 9      │ 0                        │ 5591.13                   │ 0           │\n",
       "│ 10     │ 0                        │ 5592.02                   │ 0           │\n",
       "│ 11     │ 0                        │ 5591.25                   │ 0           │\n",
       "⋮\n",
       "│ 306716 │ 0                        │ 707.63                    │ 0           │\n",
       "│ 306717 │ 0                        │ 709.28                    │ 0           │\n",
       "│ 306718 │ 0                        │ 709.51                    │ 0           │\n",
       "│ 306719 │ 0                        │ 709.25                    │ 0           │\n",
       "│ 306720 │ 0                        │ 709.72                    │ 0           │\n",
       "│ 306721 │ 0                        │ 708.77                    │ 0           │\n",
       "│ 306722 │ 0                        │ 714.47                    │ 0           │\n",
       "│ 306723 │ 0                        │ 707.58                    │ 0           │\n",
       "│ 306724 │ 0                        │ 709.33                    │ 0           │\n",
       "│ 306725 │ 0                        │ 702.35                    │ 0           │\n",
       "│ 306726 │ 0                        │ 708.67                    │ 0           │\n",
       "│ 306727 │ 0                        │ 707.22                    │ 0           │\n",
       "\n",
       "│ Row    │ click_bool │ gross_bookings_usd │ booking_bool │\n",
       "├────────┼────────────┼────────────────────┼──────────────┤\n",
       "│ 1      │ 0          │ NA                 │ 0            │\n",
       "│ 2      │ 0          │ NA                 │ 0            │\n",
       "│ 3      │ 0          │ NA                 │ 0            │\n",
       "│ 4      │ 0          │ NA                 │ 0            │\n",
       "│ 5      │ 0          │ NA                 │ 0            │\n",
       "│ 6      │ 0          │ NA                 │ 0            │\n",
       "│ 7      │ 0          │ NA                 │ 0            │\n",
       "│ 8      │ 0          │ NA                 │ 0            │\n",
       "│ 9      │ 0          │ NA                 │ 0            │\n",
       "│ 10     │ 0          │ NA                 │ 0            │\n",
       "│ 11     │ 0          │ NA                 │ 0            │\n",
       "⋮\n",
       "│ 306716 │ 0          │ NA                 │ 0            │\n",
       "│ 306717 │ 0          │ NA                 │ 0            │\n",
       "│ 306718 │ 0          │ NA                 │ 0            │\n",
       "│ 306719 │ 0          │ NA                 │ 0            │\n",
       "│ 306720 │ 0          │ NA                 │ 0            │\n",
       "│ 306721 │ 0          │ NA                 │ 0            │\n",
       "│ 306722 │ 0          │ NA                 │ 0            │\n",
       "│ 306723 │ 0          │ NA                 │ 0            │\n",
       "│ 306724 │ 0          │ NA                 │ 0            │\n",
       "│ 306725 │ 0          │ NA                 │ 0            │\n",
       "│ 306726 │ 0          │ NA                 │ 0            │\n",
       "│ 306727 │ 0          │ NA                 │ 0            │"
      ]
     },
     "execution_count": 3,
     "metadata": {},
     "output_type": "execute_result"
    }
   ],
   "source": [
    "df_hotel=readtable(\"train_clean.csv\")"
   ]
  },
  {
   "cell_type": "code",
   "execution_count": 4,
   "metadata": {
    "collapsed": false
   },
   "outputs": [
    {
     "data": {
      "text/plain": [
       "(306727,29)"
      ]
     },
     "execution_count": 4,
     "metadata": {},
     "output_type": "execute_result"
    }
   ],
   "source": [
    "size(df_hotel)"
   ]
  },
  {
   "cell_type": "code",
   "execution_count": null,
   "metadata": {
    "collapsed": false
   },
   "outputs": [],
   "source": []
  },
  {
   "cell_type": "code",
   "execution_count": null,
   "metadata": {
    "collapsed": false
   },
   "outputs": [],
   "source": []
  },
  {
   "cell_type": "code",
   "execution_count": 5,
   "metadata": {
    "collapsed": false
   },
   "outputs": [
    {
     "data": {
      "text/plain": [
       "summary_stats (generic function with 1 method)"
      ]
     },
     "execution_count": 5,
     "metadata": {},
     "output_type": "execute_result"
    }
   ],
   "source": [
    "function summary_stats(arr::DataArray)\n",
    "    clean_arr = dropna(arr)\n",
    "    print(\"missing: $(mean(isna(arr)))%\\n\")\n",
    "    print(\"maximum: $(maximum(clean_arr))\\n\")\n",
    "    print(\"minimum: $(minimum(clean_arr))\\n\")\n",
    "    print(\"median:  $(median(clean_arr))\\n\")\n",
    "    print(\"mean:    $(mean(clean_arr))\\n\")\n",
    "    print(\"std:     $(std(clean_arr))\\n\")\n",
    "end"
   ]
  },
  {
   "cell_type": "code",
   "execution_count": 6,
   "metadata": {
    "collapsed": false
   },
   "outputs": [
    {
     "name": "stdout",
     "output_type": "stream",
     "text": [
      "missing: 0.9641603119386295%\n",
      "maximum: 11056.72\n",
      "minimum: 0.0\n",
      "median:  222.4\n",
      "mean:    394.88273537705817\n",
      "std:     563.4559237365581\n"
     ]
    }
   ],
   "source": [
    "summary_stats(df_hotel[:gross_bookings_usd])"
   ]
  },
  {
   "cell_type": "code",
   "execution_count": 7,
   "metadata": {
    "collapsed": false
   },
   "outputs": [
    {
     "data": {
      "image/png": "[encoded data removed]",
      "text/plain": [
       "PyPlot.Figure(PyObject <matplotlib.figure.Figure object at 0x31d1b9780>)"
      ]
     },
     "metadata": {},
     "output_type": "display_data"
    },
    {
     "data": {
      "text/plain": [
       "([1497.0,2004.0,1358.0,1002.0,775.0,594.0,480.0,412.0,348.0,290.0  …  63.0,55.0,64.0,57.0,47.0,33.0,40.0,38.0,37.0,26.0],[50,100,150,200,250,300,350,400,450,500  …  1050,1100,1150,1200,1250,1300,1350,1400,1450,1500],Any[PyObject <matplotlib.patches.Rectangle object at 0x325932438>,PyObject <matplotlib.patches.Rectangle object at 0x325932c50>,PyObject <matplotlib.patches.Rectangle object at 0x32593d518>,PyObject <matplotlib.patches.Rectangle object at 0x32593de10>,PyObject <matplotlib.patches.Rectangle object at 0x3259da710>,PyObject <matplotlib.patches.Rectangle object at 0x3259dafd0>,PyObject <matplotlib.patches.Rectangle object at 0x3259c78d0>,PyObject <matplotlib.patches.Rectangle object at 0x3259cf198>,PyObject <matplotlib.patches.Rectangle object at 0x3259cfa90>,PyObject <matplotlib.patches.Rectangle object at 0x3259d7358>  …  PyObject <matplotlib.patches.Rectangle object at 0x3259f2c50>,PyObject <matplotlib.patches.Rectangle object at 0x3259fd518>,PyObject <matplotlib.patches.Rectangle object at 0x3259fde10>,PyObject <matplotlib.patches.Rectangle object at 0x325a01710>,PyObject <matplotlib.patches.Rectangle object at 0x325a01fd0>,PyObject <matplotlib.patches.Rectangle object at 0x325d098d0>,PyObject <matplotlib.patches.Rectangle object at 0x325d0e198>,PyObject <matplotlib.patches.Rectangle object at 0x325d0ea90>,PyObject <matplotlib.patches.Rectangle object at 0x325d15358>,PyObject <matplotlib.patches.Rectangle object at 0x325d15c50>])"
      ]
     },
     "execution_count": 7,
     "metadata": {},
     "output_type": "execute_result"
    }
   ],
   "source": [
    "PyPlot.plt[:hist](dropna(df_hotel[:gross_bookings_usd]),bins=[i*50 for i=1:30])"
   ]
  },
  {
   "cell_type": "code",
   "execution_count": 8,
   "metadata": {
    "collapsed": false
   },
   "outputs": [
    {
     "data": {
      "image/png": "[encoded data removed]",
      "text/plain": [
       "PyPlot.Figure(PyObject <matplotlib.figure.Figure object at 0x3256c9978>)"
      ]
     },
     "metadata": {},
     "output_type": "display_data"
    },
    {
     "data": {
      "text/plain": [
       "([10956.0,853.0,59748.0,124037.0,88698.0,22435.0],[0,1,2,3,4,5,6],Any[PyObject <matplotlib.patches.Rectangle object at 0x3258d6b38>,PyObject <matplotlib.patches.Rectangle object at 0x3258de2e8>,PyObject <matplotlib.patches.Rectangle object at 0x3258debe0>,PyObject <matplotlib.patches.Rectangle object at 0x3258e24a8>,PyObject <matplotlib.patches.Rectangle object at 0x3258e2da0>,PyObject <matplotlib.patches.Rectangle object at 0x32598a6a0>])"
      ]
     },
     "execution_count": 8,
     "metadata": {},
     "output_type": "execute_result"
    }
   ],
   "source": [
    "PyPlot.plt[:hist](df_hotel[:prop_starrating],bins=[0,1,2,3,4,5,6])"
   ]
  },
  {
   "cell_type": "code",
   "execution_count": 9,
   "metadata": {
    "collapsed": false
   },
   "outputs": [
    {
     "data": {
      "image/png": "[encoded data removed]",
      "text/plain": [
       "PyPlot.Figure(PyObject <matplotlib.figure.Figure object at 0x325998898>)"
      ]
     },
     "metadata": {},
     "output_type": "display_data"
    },
    {
     "data": {
      "text/plain": [
       "([12248.0,0.0,859.0,922.0,3882.0,8954.0,23644.0,47591.0,96579.0,112048.0],[0.0,0.5,1.0,1.5,2.0,2.5,3.0,3.5,4.0,4.5,5.0],Any[PyObject <matplotlib.patches.Rectangle object at 0x340e64d68>,PyObject <matplotlib.patches.Rectangle object at 0x340e6a550>,PyObject <matplotlib.patches.Rectangle object at 0x340e6ae48>,PyObject <matplotlib.patches.Rectangle object at 0x340e6f748>,PyObject <matplotlib.patches.Rectangle object at 0x340e6fef0>,PyObject <matplotlib.patches.Rectangle object at 0x340e75908>,PyObject <matplotlib.patches.Rectangle object at 0x340e7b1d0>,PyObject <matplotlib.patches.Rectangle object at 0x340e7bac8>,PyObject <matplotlib.patches.Rectangle object at 0x340e82390>,PyObject <matplotlib.patches.Rectangle object at 0x340e82c88>])"
      ]
     },
     "execution_count": 9,
     "metadata": {},
     "output_type": "execute_result"
    }
   ],
   "source": [
    "plt[:hist](df_hotel[:prop_review_score],color=\"yellow\")"
   ]
  },
  {
   "cell_type": "code",
   "execution_count": null,
   "metadata": {
    "collapsed": false
   },
   "outputs": [],
   "source": []
  },
  {
   "cell_type": "code",
   "execution_count": 10,
   "metadata": {
    "collapsed": false
   },
   "outputs": [
    {
     "data": {
      "text/plain": [
       "306727-element DataArrays.DataArray{Float64,1}:\n",
       " 5592.09\n",
       " 5592.33\n",
       " 5592.6 \n",
       " 5591.92\n",
       " 5592.13\n",
       " 5593.31\n",
       " 5590.9 \n",
       " 5592.39\n",
       " 5591.13\n",
       " 5592.02\n",
       " 5591.25\n",
       " 5591.99\n",
       " 5592.41\n",
       "    ⋮   \n",
       "  707.63\n",
       "  709.28\n",
       "  709.51\n",
       "  709.25\n",
       "  709.72\n",
       "  708.77\n",
       "  714.47\n",
       "  707.58\n",
       "  709.33\n",
       "  702.35\n",
       "  708.67\n",
       "  707.22"
      ]
     },
     "execution_count": 10,
     "metadata": {},
     "output_type": "execute_result"
    }
   ],
   "source": [
    "orig_distance=df_hotel[:orig_destination_distance]"
   ]
  },
  {
   "cell_type": "code",
   "execution_count": 11,
   "metadata": {
    "collapsed": false
   },
   "outputs": [
    {
     "name": "stdout",
     "output_type": "stream",
     "text": [
      "missing: 0.0%\n",
      "maximum: 11632.83\n",
      "minimum: 0.01\n",
      "median:  654.97\n",
      "mean:    1712.6398543004038\n",
      "std:     2390.6373149923947\n"
     ]
    }
   ],
   "source": [
    "summary_stats(orig_distance)"
   ]
  },
  {
   "cell_type": "code",
   "execution_count": 12,
   "metadata": {
    "collapsed": false
   },
   "outputs": [
    {
     "data": {
      "image/png": "[encoded data removed]",
      "text/plain": [
       "PyPlot.Figure(PyObject <matplotlib.figure.Figure object at 0x341273eb8>)"
      ]
     },
     "metadata": {},
     "output_type": "display_data"
    },
    {
     "data": {
      "text/plain": [
       "([16833.0,19231.0,16063.0,14356.0,10318.0,10040.0,7992.0,8316.0,5747.0,5133.0  …  644.0,819.0,625.0,972.0,1059.0,670.0,523.0,724.0,476.0,447.0],[50,100,150,200,250,300,350,400,450,500  …  4550,4600,4650,4700,4750,4800,4850,4900,4950,5000],Any[PyObject <matplotlib.patches.Rectangle object at 0x3427524a8>,PyObject <matplotlib.patches.Rectangle object at 0x342752c88>,PyObject <matplotlib.patches.Rectangle object at 0x342c09550>,PyObject <matplotlib.patches.Rectangle object at 0x342c09e48>,PyObject <matplotlib.patches.Rectangle object at 0x342c0f748>,PyObject <matplotlib.patches.Rectangle object at 0x342c0fef0>,PyObject <matplotlib.patches.Rectangle object at 0x342c15908>,PyObject <matplotlib.patches.Rectangle object at 0x342c1c1d0>,PyObject <matplotlib.patches.Rectangle object at 0x342c1cac8>,PyObject <matplotlib.patches.Rectangle object at 0x342c20390>  …  PyObject <matplotlib.patches.Rectangle object at 0x342d26898>,PyObject <matplotlib.patches.Rectangle object at 0x342d2d160>,PyObject <matplotlib.patches.Rectangle object at 0x342d2da58>,PyObject <matplotlib.patches.Rectangle object at 0x342d32320>,PyObject <matplotlib.patches.Rectangle object at 0x342d32c18>,PyObject <matplotlib.patches.Rectangle object at 0x342d3a4e0>,PyObject <matplotlib.patches.Rectangle object at 0x342d3add8>,PyObject <matplotlib.patches.Rectangle object at 0x342d3f6d8>,PyObject <matplotlib.patches.Rectangle object at 0x342d3ff98>,PyObject <matplotlib.patches.Rectangle object at 0x342d44898>])"
      ]
     },
     "execution_count": 12,
     "metadata": {},
     "output_type": "execute_result"
    }
   ],
   "source": [
    "plt[:hist](df_hotel[:orig_destination_distance],bins=[i*50 for i=1:100])"
   ]
  },
  {
   "cell_type": "code",
   "execution_count": 13,
   "metadata": {
    "collapsed": false
   },
   "outputs": [
    {
     "data": {
      "text/html": [
       "<table class=\"data-frame\"><tr><th></th><th>x</th><th>srch_id</th><th>date_time</th><th>site_id</th><th>visitor_location_country_id</th><th>visitor_hist_starrating</th><th>visitor_hist_adr_usd</th><th>prop_country_id</th><th>prop_id</th><th>prop_starrating</th><th>prop_review_score</th><th>prop_brand_bool</th><th>prop_location_score1</th><th>prop_log_historical_price</th><th>position</th><th>price_usd</th><th>promotion_flag</th><th>srch_destination_id</th><th>srch_length_of_stay</th><th>srch_booking_window</th><th>srch_adults_count</th><th>srch_children_count</th><th>srch_room_count</th><th>srch_saturday_night_bool</th><th>orig_destination_distance</th><th>random_bool</th><th>click_bool</th><th>gross_bookings_usd</th><th>booking_bool</th></tr><tr><th>1</th><td>568</td><td>47</td><td>2013-01-14 22:28:43</td><td>14</td><td>100</td><td>4.31</td><td>180.75</td><td>137</td><td>77040</td><td>4</td><td>4.0</td><td>0</td><td>3.14</td><td>5.39</td><td>16</td><td>153.5</td><td>0</td><td>13901</td><td>6</td><td>3</td><td>1</td><td>1</td><td>1</td><td>0</td><td>5593.11</td><td>0</td><td>1</td><td>924.0</td><td>1</td></tr><tr><th>2</th><td>586</td><td>49</td><td>2013-02-07 18:40:10</td><td>16</td><td>31</td><td>2.5</td><td>270.08</td><td>31</td><td>13962</td><td>4</td><td>4.5</td><td>1</td><td>6.42</td><td>5.43</td><td>4</td><td>115.24</td><td>0</td><td>2799</td><td>1</td><td>5</td><td>2</td><td>0</td><td>1</td><td>0</td><td>144.11</td><td>0</td><td>1</td><td>128.48</td><td>1</td></tr><tr><th>3</th><td>1082</td><td>80</td><td>2013-01-03 10:58:19</td><td>5</td><td>219</td><td>2.5</td><td>122.34</td><td>219</td><td>107761</td><td>4</td><td>3.5</td><td>1</td><td>2.64</td><td>4.99</td><td>4</td><td>127.0</td><td>0</td><td>7274</td><td>2</td><td>24</td><td>1</td><td>0</td><td>1</td><td>0</td><td>386.87</td><td>0</td><td>1</td><td>324.08</td><td>1</td></tr><tr><th>4</th><td>1206</td><td>87</td><td>2013-05-15 18:22:23</td><td>16</td><td>31</td><td>3.74</td><td>210.6</td><td>31</td><td>33406</td><td>4</td><td>4.0</td><td>1</td><td>0.69</td><td>4.79</td><td>2</td><td>96.65</td><td>0</td><td>26262</td><td>1</td><td>3</td><td>1</td><td>0</td><td>1</td><td>1</td><td>166.25</td><td>0</td><td>1</td><td>96.9</td><td>1</td></tr><tr><th>5</th><td>3196</td><td>218</td><td>2013-03-14 00:42:18</td><td>32</td><td>55</td><td>5.0</td><td>185.91</td><td>129</td><td>19663</td><td>4</td><td>4.5</td><td>0</td><td>1.61</td><td>5.12</td><td>1</td><td>143.3</td><td>0</td><td>22417</td><td>1</td><td>0</td><td>1</td><td>1</td><td>2</td><td>0</td><td>528.35</td><td>1</td><td>1</td><td>141.69</td><td>1</td></tr><tr><th>6</th><td>3570</td><td>247</td><td>2013-02-11 15:37:28</td><td>5</td><td>219</td><td>2.57</td><td>122.51</td><td>219</td><td>19796</td><td>3</td><td>4.5</td><td>1</td><td>1.95</td><td>4.83</td><td>9</td><td>98.0</td><td>1</td><td>5837</td><td>1</td><td>2</td><td>1</td><td>1</td><td>1</td><td>0</td><td>160.19</td><td>0</td><td>1</td><td>110.2</td><td>1</td></tr><tr><th>7</th><td>3731</td><td>265</td><td>2013-01-23 18:27:52</td><td>5</td><td>219</td><td>2.3</td><td>74.79</td><td>219</td><td>24513</td><td>2</td><td>2.5</td><td>0</td><td>2.94</td><td>4.51</td><td>13</td><td>70.0</td><td>0</td><td>9402</td><td>1</td><td>14</td><td>4</td><td>0</td><td>2</td><td>0</td><td>9.56</td><td>0</td><td>1</td><td>158.48</td><td>1</td></tr><tr><th>8</th><td>4303</td><td>312</td><td>2013-05-06 10:13:48</td><td>5</td><td>219</td><td>3.24</td><td>127.82</td><td>219</td><td>49989</td><td>3</td><td>3.0</td><td>1</td><td>1.61</td><td>4.51</td><td>4</td><td>139.0</td><td>0</td><td>15893</td><td>1</td><td>2</td><td>1</td><td>0</td><td>1</td><td>0</td><td>1007.15</td><td>0</td><td>1</td><td>161.15</td><td>1</td></tr><tr><th>9</th><td>4820</td><td>353</td><td>2013-05-15 10:08:53</td><td>5</td><td>219</td><td>3.26</td><td>240.26</td><td>219</td><td>122526</td><td>3</td><td>4.5</td><td>1</td><td>2.4</td><td>4.83</td><td>14</td><td>170.0</td><td>0</td><td>10737</td><td>1</td><td>1</td><td>1</td><td>1</td><td>2</td><td>1</td><td>933.49</td><td>0</td><td>1</td><td>197.37</td><td>1</td></tr><tr><th>10</th><td>5365</td><td>387</td><td>2013-01-16 10:50:56</td><td>5</td><td>219</td><td>2.9</td><td>136.75</td><td>219</td><td>111152</td><td>4</td><td>4.5</td><td>0</td><td>0.69</td><td>5.04</td><td>10</td><td>299.0</td><td>0</td><td>3836</td><td>2</td><td>13</td><td>1</td><td>1</td><td>1</td><td>0</td><td>1202.5</td><td>0</td><td>1</td><td>680.24</td><td>1</td></tr><tr><th>11</th><td>6070</td><td>433</td><td>2012-11-28 12:44:30</td><td>5</td><td>219</td><td>3.17</td><td>146.56</td><td>219</td><td>15328</td><td>3</td><td>4.5</td><td>1</td><td>1.1</td><td>4.86</td><td>19</td><td>105.0</td><td>0</td><td>21089</td><td>1</td><td>1</td><td>2</td><td>0</td><td>1</td><td>1</td><td>180.73</td><td>0</td><td>1</td><td>118.04</td><td>1</td></tr><tr><th>12</th><td>8072</td><td>569</td><td>2013-02-26 12:43:08</td><td>5</td><td>219</td><td>2.5</td><td>117.91</td><td>219</td><td>54445</td><td>3</td><td>4.5</td><td>1</td><td>3.14</td><td>5.04</td><td>2</td><td>93.0</td><td>0</td><td>7714</td><td>1</td><td>130</td><td>1</td><td>1</td><td>2</td><td>1</td><td>1721.34</td><td>0</td><td>1</td><td>228.56</td><td>1</td></tr><tr><th>13</th><td>8126</td><td>573</td><td>2013-01-31 10:39:23</td><td>5</td><td>219</td><td>2.9</td><td>136.75</td><td>219</td><td>60260</td><td>3</td><td>4.0</td><td>1</td><td>2.4</td><td>5.04</td><td>6</td><td>105.0</td><td>0</td><td>17603</td><td>6</td><td>10</td><td>1</td><td>1</td><td>2</td><td>0</td><td>1011.85</td><td>0</td><td>1</td><td>730.76</td><td>1</td></tr><tr><th>14</th><td>10101</td><td>710</td><td>2013-06-18 16:10:28</td><td>14</td><td>220</td><td>3.67</td><td>322.81</td><td>220</td><td>78600</td><td>4</td><td>4.0</td><td>1</td><td>4.42</td><td>0.0</td><td>12</td><td>122.41</td><td>0</td><td>19553</td><td>3</td><td>2</td><td>2</td><td>0</td><td>1</td><td>1</td><td>864.82</td><td>0</td><td>1</td><td>368.43</td><td>1</td></tr><tr><th>15</th><td>10173</td><td>721</td><td>2013-02-03 19:58:59</td><td>5</td><td>219</td><td>2.94</td><td>120.46</td><td>219</td><td>73140</td><td>3</td><td>4.0</td><td>1</td><td>2.56</td><td>4.63</td><td>1</td><td>85.0</td><td>0</td><td>5690</td><td>1</td><td>0</td><td>1</td><td>1</td><td>2</td><td>0</td><td>30.97</td><td>0</td><td>1</td><td>99.71</td><td>1</td></tr><tr><th>16</th><td>10681</td><td>766</td><td>2012-12-18 23:42:14</td><td>16</td><td>31</td><td>3.0</td><td>51.77</td><td>31</td><td>73493</td><td>3</td><td>3.5</td><td>0</td><td>6.46</td><td>4.71</td><td>2</td><td>46.3</td><td>0</td><td>18165</td><td>1</td><td>2</td><td>1</td><td>0</td><td>1</td><td>1</td><td>144.2</td><td>0</td><td>1</td><td>46.07</td><td>1</td></tr><tr><th>17</th><td>11665</td><td>836</td><td>2013-03-18 13:24:58</td><td>5</td><td>219</td><td>2.94</td><td>150.93</td><td>219</td><td>123568</td><td>3</td><td>5.0</td><td>1</td><td>0.69</td><td>4.81</td><td>2</td><td>130.0</td><td>0</td><td>14163</td><td>1</td><td>0</td><td>2</td><td>0</td><td>1</td><td>0</td><td>1035.37</td><td>0</td><td>1</td><td>154.16</td><td>1</td></tr><tr><th>18</th><td>12017</td><td>860</td><td>2012-12-07 13:31:54</td><td>5</td><td>219</td><td>3.17</td><td>134.93</td><td>219</td><td>59024</td><td>3</td><td>4.5</td><td>1</td><td>1.39</td><td>5.11</td><td>38</td><td>95.0</td><td>1</td><td>11235</td><td>1</td><td>0</td><td>2</td><td>0</td><td>1</td><td>1</td><td>80.12</td><td>0</td><td>1</td><td>107.75</td><td>1</td></tr><tr><th>19</th><td>12897</td><td>909</td><td>2013-03-19 23:43:18</td><td>14</td><td>100</td><td>4.94</td><td>372.84</td><td>219</td><td>63470</td><td>4</td><td>4.0</td><td>1</td><td>3.26</td><td>5.05</td><td>9</td><td>117.84</td><td>0</td><td>26458</td><td>1</td><td>12</td><td>4</td><td>4</td><td>2</td><td>0</td><td>135.34</td><td>0</td><td>1</td><td>335.78</td><td>1</td></tr><tr><th>20</th><td>15727</td><td>1077</td><td>2012-11-27 14:16:06</td><td>5</td><td>219</td><td>3.35</td><td>166.07</td><td>31</td><td>71873</td><td>4</td><td>4.0</td><td>0</td><td>6.44</td><td>5.49</td><td>4</td><td>237.0</td><td>0</td><td>14856</td><td>1</td><td>33</td><td>2</td><td>0</td><td>1</td><td>0</td><td>4160.08</td><td>0</td><td>1</td><td>189.22</td><td>1</td></tr><tr><th>21</th><td>15753</td><td>1082</td><td>2013-06-20 11:47:57</td><td>7</td><td>100</td><td>2.33</td><td>93.0</td><td>100</td><td>110898</td><td>2</td><td>2.5</td><td>1</td><td>1.61</td><td>0.0</td><td>3</td><td>85.68</td><td>0</td><td>25044</td><td>1</td><td>0</td><td>1</td><td>0</td><td>1</td><td>1</td><td>140.03</td><td>0</td><td>1</td><td>96.82</td><td>1</td></tr><tr><th>22</th><td>16771</td><td>1140</td><td>2013-05-05 19:47:39</td><td>32</td><td>220</td><td>3.0</td><td>174.73</td><td>100</td><td>113481</td><td>3</td><td>4.0</td><td>0</td><td>3.97</td><td>4.99</td><td>25</td><td>138.27</td><td>0</td><td>13927</td><td>2</td><td>136</td><td>2</td><td>0</td><td>1</td><td>0</td><td>10702.36</td><td>0</td><td>1</td><td>326.61</td><td>1</td></tr><tr><th>23</th><td>16867</td><td>1148</td><td>2012-11-04 12:22:37</td><td>5</td><td>219</td><td>4.2</td><td>412.23</td><td>219</td><td>138600</td><td>4</td><td>4.5</td><td>1</td><td>5.87</td><td>6.01</td><td>1</td><td>169.0</td><td>0</td><td>4562</td><td>1</td><td>0</td><td>2</td><td>0</td><td>1</td><td>0</td><td>5.62</td><td>0</td><td>1</td><td>258.31</td><td>1</td></tr><tr><th>24</th><td>18481</td><td>1253</td><td>2012-12-05 05:37:41</td><td>5</td><td>219</td><td>2.33</td><td>90.11</td><td>219</td><td>137148</td><td>3</td><td>4.0</td><td>1</td><td>2.71</td><td>4.52</td><td>37</td><td>74.0</td><td>0</td><td>24771</td><td>1</td><td>1</td><td>2</td><td>0</td><td>1</td><td>1</td><td>261.45</td><td>0</td><td>1</td><td>84.97</td><td>1</td></tr><tr><th>25</th><td>19976</td><td>1352</td><td>2013-05-17 12:09:58</td><td>16</td><td>31</td><td>3.37</td><td>143.83</td><td>219</td><td>37731</td><td>2</td><td>4.0</td><td>0</td><td>3.33</td><td>4.45</td><td>1</td><td>65.47</td><td>0</td><td>27456</td><td>1</td><td>87</td><td>2</td><td>0</td><td>1</td><td>0</td><td>5864.6</td><td>0</td><td>1</td><td>77.12</td><td>1</td></tr><tr><th>26</th><td>20424</td><td>1381</td><td>2013-03-14 08:31:59</td><td>5</td><td>219</td><td>4.0</td><td>250.61</td><td>99</td><td>116506</td><td>5</td><td>4.0</td><td>1</td><td>3.26</td><td>5.35</td><td>1</td><td>175.0</td><td>0</td><td>23657</td><td>1</td><td>46</td><td>2</td><td>0</td><td>1</td><td>0</td><td>3776.1</td><td>0</td><td>1</td><td>174.98</td><td>1</td></tr><tr><th>27</th><td>20797</td><td>1417</td><td>2013-06-17 08:10:24</td><td>5</td><td>219</td><td>4.0</td><td>435.92</td><td>219</td><td>65100</td><td>4</td><td>4.5</td><td>1</td><td>4.56</td><td>0.0</td><td>1</td><td>266.0</td><td>0</td><td>17759</td><td>3</td><td>4</td><td>1</td><td>1</td><td>1</td><td>1</td><td>712.11</td><td>0</td><td>1</td><td>914.98</td><td>1</td></tr><tr><th>28</th><td>21742</td><td>1482</td><td>2012-12-23 12:14:35</td><td>5</td><td>219</td><td>2.75</td><td>84.89</td><td>219</td><td>96426</td><td>4</td><td>3.5</td><td>1</td><td>1.61</td><td>3.89</td><td>4</td><td>21.0</td><td>0</td><td>3422</td><td>2</td><td>24</td><td>8</td><td>0</td><td>8</td><td>0</td><td>1734.61</td><td>0</td><td>1</td><td>376.32</td><td>1</td></tr><tr><th>29</th><td>22935</td><td>1543</td><td>2012-11-02 09:29:06</td><td>5</td><td>219</td><td>2.7</td><td>99.71</td><td>219</td><td>137366</td><td>3</td><td>4.5</td><td>1</td><td>3.0</td><td>4.57</td><td>1</td><td>89.0</td><td>0</td><td>20327</td><td>1</td><td>3</td><td>1</td><td>0</td><td>1</td><td>0</td><td>536.05</td><td>0</td><td>1</td><td>97.57</td><td>1</td></tr><tr><th>30</th><td>22963</td><td>1545</td><td>2013-05-13 18:51:10</td><td>18</td><td>129</td><td>4.0</td><td>243.66</td><td>32</td><td>46453</td><td>3</td><td>4.5</td><td>0</td><td>3.95</td><td>5.1</td><td>34</td><td>303.62</td><td>0</td><td>6311</td><td>1</td><td>18</td><td>2</td><td>0</td><td>1</td><td>1</td><td>135.17</td><td>0</td><td>1</td><td>304.07</td><td>1</td></tr><tr><th>&vellip;</th><td>&vellip;</td><td>&vellip;</td><td>&vellip;</td><td>&vellip;</td><td>&vellip;</td><td>&vellip;</td><td>&vellip;</td><td>&vellip;</td><td>&vellip;</td><td>&vellip;</td><td>&vellip;</td><td>&vellip;</td><td>&vellip;</td><td>&vellip;</td><td>&vellip;</td><td>&vellip;</td><td>&vellip;</td><td>&vellip;</td><td>&vellip;</td><td>&vellip;</td><td>&vellip;</td><td>&vellip;</td><td>&vellip;</td><td>&vellip;</td><td>&vellip;</td><td>&vellip;</td><td>&vellip;</td><td>&vellip;</td><td>&vellip;</td></tr></table>"
      ],
      "text/plain": [
       "10993×29 DataFrames.DataFrame\n",
       "│ Row   │ x       │ srch_id │ date_time             │ site_id │\n",
       "├───────┼─────────┼─────────┼───────────────────────┼─────────┤\n",
       "│ 1     │ 568     │ 47      │ \"2013-01-14 22:28:43\" │ 14      │\n",
       "│ 2     │ 586     │ 49      │ \"2013-02-07 18:40:10\" │ 16      │\n",
       "│ 3     │ 1082    │ 80      │ \"2013-01-03 10:58:19\" │ 5       │\n",
       "│ 4     │ 1206    │ 87      │ \"2013-05-15 18:22:23\" │ 16      │\n",
       "│ 5     │ 3196    │ 218     │ \"2013-03-14 00:42:18\" │ 32      │\n",
       "│ 6     │ 3570    │ 247     │ \"2013-02-11 15:37:28\" │ 5       │\n",
       "│ 7     │ 3731    │ 265     │ \"2013-01-23 18:27:52\" │ 5       │\n",
       "│ 8     │ 4303    │ 312     │ \"2013-05-06 10:13:48\" │ 5       │\n",
       "│ 9     │ 4820    │ 353     │ \"2013-05-15 10:08:53\" │ 5       │\n",
       "│ 10    │ 5365    │ 387     │ \"2013-01-16 10:50:56\" │ 5       │\n",
       "│ 11    │ 6070    │ 433     │ \"2012-11-28 12:44:30\" │ 5       │\n",
       "⋮\n",
       "│ 10982 │ 9911855 │ 665203  │ \"2012-12-17 06:09:06\" │ 5       │\n",
       "│ 10983 │ 9912032 │ 665223  │ \"2013-02-03 04:32:00\" │ 5       │\n",
       "│ 10984 │ 9912380 │ 665244  │ \"2012-11-19 11:48:54\" │ 5       │\n",
       "│ 10985 │ 9913083 │ 665283  │ \"2013-06-18 18:06:14\" │ 16      │\n",
       "│ 10986 │ 9913225 │ 665293  │ \"2013-02-09 19:45:14\" │ 18      │\n",
       "│ 10987 │ 9913307 │ 665303  │ \"2013-06-17 09:08:00\" │ 14      │\n",
       "│ 10988 │ 9914034 │ 665348  │ \"2013-03-14 09:04:11\" │ 5       │\n",
       "│ 10989 │ 9914625 │ 665385  │ \"2013-06-06 10:30:01\" │ 5       │\n",
       "│ 10990 │ 9916061 │ 665465  │ \"2012-11-07 10:52:35\" │ 5       │\n",
       "│ 10991 │ 9916080 │ 665468  │ \"2013-05-23 12:23:59\" │ 16      │\n",
       "│ 10992 │ 9916736 │ 665526  │ \"2013-03-05 13:11:03\" │ 5       │\n",
       "│ 10993 │ 9917192 │ 665554  │ \"2013-03-18 06:35:18\" │ 5       │\n",
       "\n",
       "│ Row   │ visitor_location_country_id │ visitor_hist_starrating │\n",
       "├───────┼─────────────────────────────┼─────────────────────────┤\n",
       "│ 1     │ 100                         │ 4.31                    │\n",
       "│ 2     │ 31                          │ 2.5                     │\n",
       "│ 3     │ 219                         │ 2.5                     │\n",
       "│ 4     │ 31                          │ 3.74                    │\n",
       "│ 5     │ 55                          │ 5.0                     │\n",
       "│ 6     │ 219                         │ 2.57                    │\n",
       "│ 7     │ 219                         │ 2.3                     │\n",
       "│ 8     │ 219                         │ 3.24                    │\n",
       "│ 9     │ 219                         │ 3.26                    │\n",
       "│ 10    │ 219                         │ 2.9                     │\n",
       "│ 11    │ 219                         │ 3.17                    │\n",
       "⋮\n",
       "│ 10982 │ 219                         │ 2.75                    │\n",
       "│ 10983 │ 219                         │ 3.5                     │\n",
       "│ 10984 │ 219                         │ 3.16                    │\n",
       "│ 10985 │ 31                          │ 3.73                    │\n",
       "│ 10986 │ 129                         │ 3.5                     │\n",
       "│ 10987 │ 100                         │ 3.38                    │\n",
       "│ 10988 │ 219                         │ 3.53                    │\n",
       "│ 10989 │ 219                         │ 2.5                     │\n",
       "│ 10990 │ 219                         │ 3.5                     │\n",
       "│ 10991 │ 31                          │ 3.0                     │\n",
       "│ 10992 │ 219                         │ 4.67                    │\n",
       "│ 10993 │ 219                         │ 2.42                    │\n",
       "\n",
       "│ Row   │ visitor_hist_adr_usd │ prop_country_id │ prop_id │ prop_starrating │\n",
       "├───────┼──────────────────────┼─────────────────┼─────────┼─────────────────┤\n",
       "│ 1     │ 180.75               │ 137             │ 77040   │ 4               │\n",
       "│ 2     │ 270.08               │ 31              │ 13962   │ 4               │\n",
       "│ 3     │ 122.34               │ 219             │ 107761  │ 4               │\n",
       "│ 4     │ 210.6                │ 31              │ 33406   │ 4               │\n",
       "│ 5     │ 185.91               │ 129             │ 19663   │ 4               │\n",
       "│ 6     │ 122.51               │ 219             │ 19796   │ 3               │\n",
       "│ 7     │ 74.79                │ 219             │ 24513   │ 2               │\n",
       "│ 8     │ 127.82               │ 219             │ 49989   │ 3               │\n",
       "│ 9     │ 240.26               │ 219             │ 122526  │ 3               │\n",
       "│ 10    │ 136.75               │ 219             │ 111152  │ 4               │\n",
       "│ 11    │ 146.56               │ 219             │ 15328   │ 3               │\n",
       "⋮\n",
       "│ 10982 │ 159.42               │ 219             │ 55749   │ 3               │\n",
       "│ 10983 │ 303.24               │ 86              │ 18677   │ 4               │\n",
       "│ 10984 │ 122.33               │ 219             │ 37790   │ 4               │\n",
       "│ 10985 │ 274.75               │ 31              │ 474     │ 0               │\n",
       "│ 10986 │ 244.17               │ 219             │ 48395   │ 4               │\n",
       "│ 10987 │ 242.69               │ 138             │ 129822  │ 2               │\n",
       "│ 10988 │ 171.49               │ 31              │ 38953   │ 4               │\n",
       "│ 10989 │ 107.64               │ 219             │ 136683  │ 2               │\n",
       "│ 10990 │ 246.58               │ 219             │ 113804  │ 3               │\n",
       "│ 10991 │ 193.6                │ 219             │ 29927   │ 4               │\n",
       "│ 10992 │ 278.06               │ 219             │ 25521   │ 4               │\n",
       "│ 10993 │ 103.21               │ 219             │ 42346   │ 3               │\n",
       "\n",
       "│ Row   │ prop_review_score │ prop_brand_bool │ prop_location_score1 │\n",
       "├───────┼───────────────────┼─────────────────┼──────────────────────┤\n",
       "│ 1     │ 4.0               │ 0               │ 3.14                 │\n",
       "│ 2     │ 4.5               │ 1               │ 6.42                 │\n",
       "│ 3     │ 3.5               │ 1               │ 2.64                 │\n",
       "│ 4     │ 4.0               │ 1               │ 0.69                 │\n",
       "│ 5     │ 4.5               │ 0               │ 1.61                 │\n",
       "│ 6     │ 4.5               │ 1               │ 1.95                 │\n",
       "│ 7     │ 2.5               │ 0               │ 2.94                 │\n",
       "│ 8     │ 3.0               │ 1               │ 1.61                 │\n",
       "│ 9     │ 4.5               │ 1               │ 2.4                  │\n",
       "│ 10    │ 4.5               │ 0               │ 0.69                 │\n",
       "│ 11    │ 4.5               │ 1               │ 1.1                  │\n",
       "⋮\n",
       "│ 10982 │ 4.5               │ 1               │ 1.95                 │\n",
       "│ 10983 │ 4.0               │ 0               │ 1.95                 │\n",
       "│ 10984 │ 4.0               │ 1               │ 2.3                  │\n",
       "│ 10985 │ 4.5               │ 1               │ 1.79                 │\n",
       "│ 10986 │ 4.5               │ 1               │ 2.4                  │\n",
       "│ 10987 │ 3.5               │ 0               │ 1.1                  │\n",
       "│ 10988 │ 4.5               │ 0               │ 6.8                  │\n",
       "│ 10989 │ 3.5               │ 1               │ 1.61                 │\n",
       "│ 10990 │ 4.5               │ 1               │ 2.4                  │\n",
       "│ 10991 │ 4.5               │ 1               │ 3.64                 │\n",
       "│ 10992 │ 4.0               │ 1               │ 3.56                 │\n",
       "│ 10993 │ 3.5               │ 1               │ 0.0                  │\n",
       "\n",
       "│ Row   │ prop_log_historical_price │ position │ price_usd │ promotion_flag │\n",
       "├───────┼───────────────────────────┼──────────┼───────────┼────────────────┤\n",
       "│ 1     │ 5.39                      │ 16       │ 153.5     │ 0              │\n",
       "│ 2     │ 5.43                      │ 4        │ 115.24    │ 0              │\n",
       "│ 3     │ 4.99                      │ 4        │ 127.0     │ 0              │\n",
       "│ 4     │ 4.79                      │ 2        │ 96.65     │ 0              │\n",
       "│ 5     │ 5.12                      │ 1        │ 143.3     │ 0              │\n",
       "│ 6     │ 4.83                      │ 9        │ 98.0      │ 1              │\n",
       "│ 7     │ 4.51                      │ 13       │ 70.0      │ 0              │\n",
       "│ 8     │ 4.51                      │ 4        │ 139.0     │ 0              │\n",
       "│ 9     │ 4.83                      │ 14       │ 170.0     │ 0              │\n",
       "│ 10    │ 5.04                      │ 10       │ 299.0     │ 0              │\n",
       "│ 11    │ 4.86                      │ 19       │ 105.0     │ 0              │\n",
       "⋮\n",
       "│ 10982 │ 4.77                      │ 1        │ 82.0      │ 0              │\n",
       "│ 10983 │ 5.43                      │ 1        │ 125.0     │ 1              │\n",
       "│ 10984 │ 5.55                      │ 6        │ 169.0     │ 0              │\n",
       "│ 10985 │ 0.0                       │ 15       │ 84.38     │ 0              │\n",
       "│ 10986 │ 5.18                      │ 4        │ 179.1     │ 0              │\n",
       "│ 10987 │ 0.0                       │ 3        │ 77.56     │ 0              │\n",
       "│ 10988 │ 5.77                      │ 10       │ 205.0     │ 1              │\n",
       "│ 10989 │ 0.0                       │ 12       │ 89.0      │ 0              │\n",
       "│ 10990 │ 4.81                      │ 13       │ 80.0      │ 1              │\n",
       "│ 10991 │ 5.58                      │ 1        │ 152.63    │ 1              │\n",
       "│ 10992 │ 5.58                      │ 6        │ 203.0     │ 0              │\n",
       "│ 10993 │ 4.72                      │ 35       │ 102.0     │ 0              │\n",
       "\n",
       "│ Row   │ srch_destination_id │ srch_length_of_stay │ srch_booking_window │\n",
       "├───────┼─────────────────────┼─────────────────────┼─────────────────────┤\n",
       "│ 1     │ 13901               │ 6                   │ 3                   │\n",
       "│ 2     │ 2799                │ 1                   │ 5                   │\n",
       "│ 3     │ 7274                │ 2                   │ 24                  │\n",
       "│ 4     │ 26262               │ 1                   │ 3                   │\n",
       "│ 5     │ 22417               │ 1                   │ 0                   │\n",
       "│ 6     │ 5837                │ 1                   │ 2                   │\n",
       "│ 7     │ 9402                │ 1                   │ 14                  │\n",
       "│ 8     │ 15893               │ 1                   │ 2                   │\n",
       "│ 9     │ 10737               │ 1                   │ 1                   │\n",
       "│ 10    │ 3836                │ 2                   │ 13                  │\n",
       "│ 11    │ 21089               │ 1                   │ 1                   │\n",
       "⋮\n",
       "│ 10982 │ 7416                │ 1                   │ 5                   │\n",
       "│ 10983 │ 23197               │ 2                   │ 59                  │\n",
       "│ 10984 │ 26928               │ 3                   │ 25                  │\n",
       "│ 10985 │ 8490                │ 1                   │ 8                   │\n",
       "│ 10986 │ 18774               │ 1                   │ 199                 │\n",
       "│ 10987 │ 3229                │ 1                   │ 1                   │\n",
       "│ 10988 │ 15620               │ 5                   │ 8                   │\n",
       "│ 10989 │ 13202               │ 4                   │ 17                  │\n",
       "│ 10990 │ 27372               │ 1                   │ 7                   │\n",
       "│ 10991 │ 27770               │ 3                   │ 165                 │\n",
       "│ 10992 │ 13202               │ 5                   │ 149                 │\n",
       "│ 10993 │ 21494               │ 2                   │ 1                   │\n",
       "\n",
       "│ Row   │ srch_adults_count │ srch_children_count │ srch_room_count │\n",
       "├───────┼───────────────────┼─────────────────────┼─────────────────┤\n",
       "│ 1     │ 1                 │ 1                   │ 1               │\n",
       "│ 2     │ 2                 │ 0                   │ 1               │\n",
       "│ 3     │ 1                 │ 0                   │ 1               │\n",
       "│ 4     │ 1                 │ 0                   │ 1               │\n",
       "│ 5     │ 1                 │ 1                   │ 2               │\n",
       "│ 6     │ 1                 │ 1                   │ 1               │\n",
       "│ 7     │ 4                 │ 0                   │ 2               │\n",
       "│ 8     │ 1                 │ 0                   │ 1               │\n",
       "│ 9     │ 1                 │ 1                   │ 2               │\n",
       "│ 10    │ 1                 │ 1                   │ 1               │\n",
       "│ 11    │ 2                 │ 0                   │ 1               │\n",
       "⋮\n",
       "│ 10982 │ 2                 │ 0                   │ 1               │\n",
       "│ 10983 │ 2                 │ 0                   │ 1               │\n",
       "│ 10984 │ 2                 │ 0                   │ 1               │\n",
       "│ 10985 │ 2                 │ 0                   │ 1               │\n",
       "│ 10986 │ 1                 │ 1                   │ 2               │\n",
       "│ 10987 │ 1                 │ 1                   │ 1               │\n",
       "│ 10988 │ 2                 │ 0                   │ 1               │\n",
       "│ 10989 │ 1                 │ 0                   │ 1               │\n",
       "│ 10990 │ 1                 │ 0                   │ 1               │\n",
       "│ 10991 │ 2                 │ 0                   │ 1               │\n",
       "│ 10992 │ 2                 │ 2                   │ 1               │\n",
       "│ 10993 │ 1                 │ 0                   │ 1               │\n",
       "\n",
       "│ Row   │ srch_saturday_night_bool │ orig_destination_distance │ random_bool │\n",
       "├───────┼──────────────────────────┼───────────────────────────┼─────────────┤\n",
       "│ 1     │ 0                        │ 5593.11                   │ 0           │\n",
       "│ 2     │ 0                        │ 144.11                    │ 0           │\n",
       "│ 3     │ 0                        │ 386.87                    │ 0           │\n",
       "│ 4     │ 1                        │ 166.25                    │ 0           │\n",
       "│ 5     │ 0                        │ 528.35                    │ 1           │\n",
       "│ 6     │ 0                        │ 160.19                    │ 0           │\n",
       "│ 7     │ 0                        │ 9.56                      │ 0           │\n",
       "│ 8     │ 0                        │ 1007.15                   │ 0           │\n",
       "│ 9     │ 1                        │ 933.49                    │ 0           │\n",
       "│ 10    │ 0                        │ 1202.5                    │ 0           │\n",
       "│ 11    │ 1                        │ 180.73                    │ 0           │\n",
       "⋮\n",
       "│ 10982 │ 1                        │ 2137.8                    │ 0           │\n",
       "│ 10983 │ 0                        │ 8982.83                   │ 0           │\n",
       "│ 10984 │ 1                        │ 445.48                    │ 0           │\n",
       "│ 10985 │ 0                        │ 154.55                    │ 0           │\n",
       "│ 10986 │ 0                        │ 4235.87                   │ 0           │\n",
       "│ 10987 │ 0                        │ 3963.68                   │ 0           │\n",
       "│ 10988 │ 0                        │ 4896.21                   │ 0           │\n",
       "│ 10989 │ 0                        │ 980.65                    │ 0           │\n",
       "│ 10990 │ 0                        │ 788.4                     │ 0           │\n",
       "│ 10991 │ 0                        │ 5929.72                   │ 0           │\n",
       "│ 10992 │ 0                        │ 2396.32                   │ 0           │\n",
       "│ 10993 │ 0                        │ 715.26                    │ 0           │\n",
       "\n",
       "│ Row   │ click_bool │ gross_bookings_usd │ booking_bool │\n",
       "├───────┼────────────┼────────────────────┼──────────────┤\n",
       "│ 1     │ 1          │ 924.0              │ 1            │\n",
       "│ 2     │ 1          │ 128.48             │ 1            │\n",
       "│ 3     │ 1          │ 324.08             │ 1            │\n",
       "│ 4     │ 1          │ 96.9               │ 1            │\n",
       "│ 5     │ 1          │ 141.69             │ 1            │\n",
       "│ 6     │ 1          │ 110.2              │ 1            │\n",
       "│ 7     │ 1          │ 158.48             │ 1            │\n",
       "│ 8     │ 1          │ 161.15             │ 1            │\n",
       "│ 9     │ 1          │ 197.37             │ 1            │\n",
       "│ 10    │ 1          │ 680.24             │ 1            │\n",
       "│ 11    │ 1          │ 118.04             │ 1            │\n",
       "⋮\n",
       "│ 10982 │ 1          │ 91.79              │ 1            │\n",
       "│ 10983 │ 1          │ 315.0              │ 1            │\n",
       "│ 10984 │ 1          │ 575.16             │ 1            │\n",
       "│ 10985 │ 1          │ 84.21              │ 1            │\n",
       "│ 10986 │ 1          │ 181.73             │ 1            │\n",
       "│ 10987 │ 1          │ 138.46             │ 1            │\n",
       "│ 10988 │ 1          │ 1169.35            │ 1            │\n",
       "│ 10989 │ 1          │ 372.92             │ 1            │\n",
       "│ 10990 │ 1          │ 91.56              │ 1            │\n",
       "│ 10991 │ 1          │ 525.82             │ 1            │\n",
       "│ 10992 │ 1          │ 1437.25            │ 1            │\n",
       "│ 10993 │ 1          │ 233.38             │ 1            │"
      ]
     },
     "execution_count": 13,
     "metadata": {},
     "output_type": "execute_result"
    }
   ],
   "source": [
    "df_book=df_hotel[df_hotel[:booking_bool].==1,:]"
   ]
  },
  {
   "cell_type": "code",
   "execution_count": 14,
   "metadata": {
    "collapsed": false
   },
   "outputs": [
    {
     "name": "stdout",
     "output_type": "stream",
     "text": [
      "missing: 0.0%\n",
      "maximum: 1550.0\n",
      "minimum: 9.34\n",
      "median:  116.0\n",
      "mean:    136.41450832347857\n",
      "std:     81.48373348296192\n"
     ]
    }
   ],
   "source": [
    "summary_stats(df_book[:price_usd])"
   ]
  },
  {
   "cell_type": "code",
   "execution_count": 15,
   "metadata": {
    "collapsed": false
   },
   "outputs": [
    {
     "name": "stdout",
     "output_type": "stream",
     "text": [
      "missing: 0.0%\n",
      "maximum: 5\n",
      "minimum: 0\n",
      "median:  3.0\n",
      "mean:    3.306467752205949\n",
      "std:     0.934368746678073\n"
     ]
    }
   ],
   "source": [
    "summary_stats(df_book[:prop_starrating])"
   ]
  },
  {
   "cell_type": "code",
   "execution_count": 16,
   "metadata": {
    "collapsed": false
   },
   "outputs": [
    {
     "data": {
      "image/png": "[encoded data removed]",
      "text/plain": [
       "PyPlot.Figure(PyObject <matplotlib.figure.Figure object at 0x342752f60>)"
      ]
     },
     "metadata": {},
     "output_type": "display_data"
    },
    {
     "data": {
      "text/plain": [
       "([195.0,8.0,1593.0,4477.0,3877.0,843.0],[0,1,2,3,4,5,6],Any[PyObject <matplotlib.patches.Rectangle object at 0x342db2940>,PyObject <matplotlib.patches.Rectangle object at 0x342db7128>,PyObject <matplotlib.patches.Rectangle object at 0x342db7a20>,PyObject <matplotlib.patches.Rectangle object at 0x342dbb2e8>,PyObject <matplotlib.patches.Rectangle object at 0x342dbbbe0>,PyObject <matplotlib.patches.Rectangle object at 0x342dc34a8>])"
      ]
     },
     "execution_count": 16,
     "metadata": {},
     "output_type": "execute_result"
    }
   ],
   "source": [
    "PyPlot.plt[:hist](df_book[:prop_starrating],bins=[0,1,2,3,4,5,6])"
   ]
  },
  {
   "cell_type": "code",
   "execution_count": 17,
   "metadata": {
    "collapsed": false
   },
   "outputs": [
    {
     "data": {
      "image/png": "[encoded data removed]",
      "text/plain": [
       "PyPlot.Figure(PyObject <matplotlib.figure.Figure object at 0x342ddf550>)"
      ]
     },
     "metadata": {},
     "output_type": "display_data"
    },
    {
     "data": {
      "text/plain": [
       "([196.0,0.0,9.0,9.0,39.0,165.0,578.0,1663.0,3857.0,4477.0],[0.0,0.5,1.0,1.5,2.0,2.5,3.0,3.5,4.0,4.5,5.0],Any[PyObject <matplotlib.patches.Rectangle object at 0x342e662e8>,PyObject <matplotlib.patches.Rectangle object at 0x342e66ac8>,PyObject <matplotlib.patches.Rectangle object at 0x342e70390>,PyObject <matplotlib.patches.Rectangle object at 0x342e70c88>,PyObject <matplotlib.patches.Rectangle object at 0x342e74550>,PyObject <matplotlib.patches.Rectangle object at 0x342e74e48>,PyObject <matplotlib.patches.Rectangle object at 0x342e79748>,PyObject <matplotlib.patches.Rectangle object at 0x342e79ef0>,PyObject <matplotlib.patches.Rectangle object at 0x342e80908>,PyObject <matplotlib.patches.Rectangle object at 0x342e861d0>])"
      ]
     },
     "execution_count": 17,
     "metadata": {},
     "output_type": "execute_result"
    }
   ],
   "source": [
    "plt[:hist](df_book[:prop_review_score],color=\"yellow\")"
   ]
  },
  {
   "cell_type": "code",
   "execution_count": 18,
   "metadata": {
    "collapsed": false
   },
   "outputs": [
    {
     "data": {
      "image/png": "[encoded data removed]",
      "text/plain": [
       "PyPlot.Figure(PyObject <matplotlib.figure.Figure object at 0x342eac908>)"
      ]
     },
     "metadata": {},
     "output_type": "display_data"
    },
    {
     "data": {
      "text/plain": [
       "(0,6000)"
      ]
     },
     "execution_count": 18,
     "metadata": {},
     "output_type": "execute_result"
    }
   ],
   "source": [
    "numstayarr=Array(Any,6)\n",
    "\n",
    "\n",
    "numstayarr[1]=df_book[df_book[:srch_length_of_stay].==1,:][:gross_bookings_usd]\n",
    "numstayarr[2]=df_book[df_book[:srch_length_of_stay].==2,:][:gross_bookings_usd]\n",
    "numstayarr[3]=df_book[df_book[:srch_length_of_stay].==3,:][:gross_bookings_usd]\n",
    "numstayarr[4]=df_book[df_book[:srch_length_of_stay].==4,:][:gross_bookings_usd]\n",
    "numstayarr[5]=df_book[df_book[:srch_length_of_stay].==5,:][:gross_bookings_usd]\n",
    "numstayarr[6]=df_book[df_book[:srch_length_of_stay].>=6,:][:gross_bookings_usd]\n",
    "boxplot(numstayarr, # Each column/cell is one box\n",
    "     # Notched center\n",
    "    whis=0.8, # Whisker length as a percent of inner quartile range\n",
    "    widths=0.25, # Width of boxes\n",
    "vert=true, # Horizontal boxes\n",
    "    sym=\"rs\")\n",
    "ylim(0,6000)"
   ]
  },
  {
   "cell_type": "code",
   "execution_count": 19,
   "metadata": {
    "collapsed": false
   },
   "outputs": [
    {
     "data": {
      "image/png": "[encoded data removed]",
      "text/plain": [
       "PyPlot.Figure(PyObject <matplotlib.figure.Figure object at 0x343308a20>)"
      ]
     },
     "metadata": {},
     "output_type": "display_data"
    },
    {
     "data": {
      "text/plain": [
       "(0,1000)"
      ]
     },
     "execution_count": 19,
     "metadata": {},
     "output_type": "execute_result"
    }
   ],
   "source": [
    "numratearr=Array(Any,10)\n",
    "\n",
    "numratearr[1]=df_book[df_book[:prop_review_score].==0,:][:gross_bookings_usd]\n",
    "numratearr[2]=df_book[df_book[:prop_review_score].==0.5,:][:gross_bookings_usd]\n",
    "numratearr[3]=df_book[df_book[:prop_review_score].==1,:][:gross_bookings_usd]\n",
    "numratearr[4]=df_book[df_book[:prop_review_score].==1.5,:][:gross_bookings_usd]\n",
    "numratearr[5]=df_book[df_book[:prop_review_score].==2,:][:gross_bookings_usd]\n",
    "numratearr[6]=df_book[df_book[:prop_review_score].==2.5,:][:gross_bookings_usd]\n",
    "numratearr[7]=df_book[df_book[:prop_review_score].==3,:][:gross_bookings_usd]\n",
    "numratearr[8]=df_book[df_book[:prop_review_score].==3.5,:][:gross_bookings_usd]\n",
    "numratearr[9]=df_book[df_book[:prop_review_score].==4,:][:gross_bookings_usd]\n",
    "numratearr[10]=df_book[df_book[:prop_review_score].==4.5,:][:gross_bookings_usd]\n",
    "boxplot(numratearr, # Each column/cell is one box\n",
    "     # Notched center\n",
    "    whis=0.8, # Whisker length as a percent of inner quartile range\n",
    "    widths=0.3, # Width of boxes\n",
    " # Horizontal boxes\n",
    "    sym=\"rs\")\n",
    "xticks([1,2,3,4,5,6,7,8,9,10],[\"0\",\"0.5\",\"1\",\"1.5\",\"2\",\"2.5\",\"3\",\"3.5\",\"4\",\"4.5\"])\n",
    "ylim([0,1000])"
   ]
  },
  {
   "cell_type": "code",
   "execution_count": 20,
   "metadata": {
    "collapsed": false
   },
   "outputs": [
    {
     "data": {
      "text/plain": [
       "10993"
      ]
     },
     "execution_count": 20,
     "metadata": {},
     "output_type": "execute_result"
    }
   ],
   "source": [
    "n=size(df_book)[1]"
   ]
  },
  {
   "cell_type": "code",
   "execution_count": 213,
   "metadata": {
    "collapsed": false
   },
   "outputs": [
    {
     "data": {
      "text/plain": [
       "10993-element Array{Int64,1}:\n",
       "   3\n",
       "   5\n",
       "  24\n",
       "   3\n",
       "   0\n",
       "   2\n",
       "  14\n",
       "   2\n",
       "   1\n",
       "  13\n",
       "   1\n",
       " 130\n",
       "  10\n",
       "   ⋮\n",
       "   5\n",
       "  59\n",
       "  25\n",
       "   8\n",
       " 199\n",
       "   1\n",
       "   8\n",
       "  17\n",
       "   7\n",
       " 165\n",
       " 149\n",
       "   1"
      ]
     },
     "execution_count": 213,
     "metadata": {},
     "output_type": "execute_result"
    }
   ],
   "source": [
    "pricedata=df_book[:price_usd].data\n",
    "numday=df_book[:srch_length_of_stay].data\n",
    "reviewrate=df_book[:prop_review_score].data\n",
    "starrate=df_book[:prop_starrating].data\n",
    "prombool=df_book[:promotion_flag].data\n",
    "branbool=df_book[:prop_brand_bool].data\n",
    "locascore=df_book[:prop_location_score1].data\n",
    "numroom=df_book[:srch_room_count].data\n",
    "distance=df_book[:orig_destination_distance].data\n",
    "vis_price=df_book[:visitor_hist_adr_usd].data\n",
    "book_wind=df_book[:srch_booking_window].data"
   ]
  },
  {
   "cell_type": "code",
   "execution_count": 171,
   "metadata": {
    "collapsed": false
   },
   "outputs": [
    {
     "data": {
      "text/plain": [
       "2-element Array{Float64,1}:\n",
       "   3.40475\n",
       " -69.5752 "
      ]
     },
     "execution_count": 171,
     "metadata": {},
     "output_type": "execute_result"
    }
   ],
   "source": [
    "X_1=[pricedata ones(n)]\n",
    "y=df_book[:gross_bookings_usd].data\n",
    "w=X_1\\y"
   ]
  },
  {
   "cell_type": "code",
   "execution_count": 156,
   "metadata": {
    "collapsed": false
   },
   "outputs": [
    {
     "data": {
      "text/plain": [
       "240492.11218408597"
      ]
     },
     "execution_count": 156,
     "metadata": {},
     "output_type": "execute_result"
    }
   ],
   "source": [
    "inc_mse=1/n*sum((y-X_1*w).^2)"
   ]
  },
  {
   "cell_type": "code",
   "execution_count": 157,
   "metadata": {
    "collapsed": false
   },
   "outputs": [
    {
     "data": {
      "text/plain": [
       "3-element Array{Float64,1}:\n",
       "    3.08395\n",
       "  179.139  \n",
       " -398.253  "
      ]
     },
     "execution_count": 157,
     "metadata": {},
     "output_type": "execute_result"
    }
   ],
   "source": [
    "X_2=[pricedata numday ones(n)]\n",
    "w_2=X_2\\y"
   ]
  },
  {
   "cell_type": "code",
   "execution_count": 158,
   "metadata": {
    "collapsed": false
   },
   "outputs": [
    {
     "data": {
      "text/plain": [
       "134927.06073639446"
      ]
     },
     "execution_count": 158,
     "metadata": {},
     "output_type": "execute_result"
    }
   ],
   "source": [
    "inc_mse_2=1/n*sum((y-X_2*w_2).^2)"
   ]
  },
  {
   "cell_type": "code",
   "execution_count": 159,
   "metadata": {
    "collapsed": false
   },
   "outputs": [
    {
     "data": {
      "text/plain": [
       "4-element Array{Float64,1}:\n",
       "    3.09145\n",
       "  179.086  \n",
       "   -4.02184\n",
       " -383.111  "
      ]
     },
     "execution_count": 159,
     "metadata": {},
     "output_type": "execute_result"
    }
   ],
   "source": [
    "X_3=[pricedata numday reviewrate ones(n)]\n",
    "w_3=X_3\\y"
   ]
  },
  {
   "cell_type": "code",
   "execution_count": 160,
   "metadata": {
    "collapsed": false
   },
   "outputs": [
    {
     "data": {
      "text/plain": [
       "134918.214676641"
      ]
     },
     "execution_count": 160,
     "metadata": {},
     "output_type": "execute_result"
    }
   ],
   "source": [
    "inc_mse_3=1/n*sum((y-X_3*w_3).^2)"
   ]
  },
  {
   "cell_type": "code",
   "execution_count": 161,
   "metadata": {
    "collapsed": false
   },
   "outputs": [
    {
     "data": {
      "text/plain": [
       "5-element Array{Float64,1}:\n",
       "    3.0386 \n",
       "  179.0    \n",
       "   -6.32638\n",
       "   10.8521 \n",
       " -402.408  "
      ]
     },
     "execution_count": 161,
     "metadata": {},
     "output_type": "execute_result"
    }
   ],
   "source": [
    "X_4=[pricedata numday reviewrate starrate ones(n)]\n",
    "w_4=X_4\\y"
   ]
  },
  {
   "cell_type": "code",
   "execution_count": 162,
   "metadata": {
    "collapsed": false
   },
   "outputs": [
    {
     "data": {
      "text/plain": [
       "134840.07201929722"
      ]
     },
     "execution_count": 162,
     "metadata": {},
     "output_type": "execute_result"
    }
   ],
   "source": [
    "inc_mse_4=1/n*sum((y-X_4*w_4).^2)"
   ]
  },
  {
   "cell_type": "code",
   "execution_count": 163,
   "metadata": {
    "collapsed": false
   },
   "outputs": [
    {
     "data": {
      "text/plain": [
       "6-element Array{Float64,1}:\n",
       "    3.05482\n",
       "  178.409  \n",
       "   -6.47132\n",
       "    8.86848\n",
       "   18.9601 \n",
       " -401.031  "
      ]
     },
     "execution_count": 163,
     "metadata": {},
     "output_type": "execute_result"
    }
   ],
   "source": [
    "X_5=[pricedata numday reviewrate starrate prombool ones(n)]\n",
    "w_5=X_5\\y"
   ]
  },
  {
   "cell_type": "code",
   "execution_count": 164,
   "metadata": {
    "collapsed": false
   },
   "outputs": [
    {
     "data": {
      "text/plain": [
       "134776.413475128"
      ]
     },
     "execution_count": 164,
     "metadata": {},
     "output_type": "execute_result"
    }
   ],
   "source": [
    "inc_mse_5=1/n*sum((y-X_5*w_5).^2)"
   ]
  },
  {
   "cell_type": "code",
   "execution_count": 165,
   "metadata": {
    "collapsed": false
   },
   "outputs": [
    {
     "data": {
      "text/plain": [
       "7-element Array{Float64,1}:\n",
       "    3.06341\n",
       "  178.706  \n",
       "   -8.26578\n",
       "    9.43794\n",
       "   22.073  \n",
       "   23.6557 \n",
       " -415.59   "
      ]
     },
     "execution_count": 165,
     "metadata": {},
     "output_type": "execute_result"
    }
   ],
   "source": [
    "X_6=[pricedata numday reviewrate starrate prombool branbool ones(n)]\n",
    "w_6=X_6\\y"
   ]
  },
  {
   "cell_type": "code",
   "execution_count": 166,
   "metadata": {
    "collapsed": false
   },
   "outputs": [
    {
     "data": {
      "text/plain": [
       "134670.71006198105"
      ]
     },
     "execution_count": 166,
     "metadata": {},
     "output_type": "execute_result"
    }
   ],
   "source": [
    "inc_mse_6=1/n*sum((y-X_6*w_6).^2)"
   ]
  },
  {
   "cell_type": "code",
   "execution_count": 167,
   "metadata": {
    "collapsed": false
   },
   "outputs": [
    {
     "data": {
      "text/plain": [
       "8-element Array{Float64,1}:\n",
       "    3.03153\n",
       "  178.184  \n",
       "   -8.62505\n",
       "    7.51329\n",
       "   18.526  \n",
       "   26.8711 \n",
       "    7.25389\n",
       " -423.263  "
      ]
     },
     "execution_count": 167,
     "metadata": {},
     "output_type": "execute_result"
    }
   ],
   "source": [
    "X_7=[pricedata numday reviewrate starrate prombool branbool locascore ones(n)]\n",
    "w_7=X_7\\y"
   ]
  },
  {
   "cell_type": "code",
   "execution_count": 168,
   "metadata": {
    "collapsed": false
   },
   "outputs": [
    {
     "data": {
      "text/plain": [
       "134578.0358004158"
      ]
     },
     "execution_count": 168,
     "metadata": {},
     "output_type": "execute_result"
    }
   ],
   "source": [
    "inc_mse_7=1/n*sum((y-X_7*w_7).^2)"
   ]
  },
  {
   "cell_type": "code",
   "execution_count": 179,
   "metadata": {
    "collapsed": false
   },
   "outputs": [
    {
     "data": {
      "text/plain": [
       "9-element Array{Float64,1}:\n",
       "    3.03895\n",
       "  177.209  \n",
       "  239.621  \n",
       "   -8.70104\n",
       "    6.8992 \n",
       "   20.4504 \n",
       "    8.87318\n",
       "    3.17567\n",
       " -687.805  "
      ]
     },
     "execution_count": 179,
     "metadata": {},
     "output_type": "execute_result"
    }
   ],
   "source": [
    "X_8=[pricedata numday numroom reviewrate starrate prombool branbool locascore ones(n)]\n",
    "w_8=X_8\\y"
   ]
  },
  {
   "cell_type": "code",
   "execution_count": 180,
   "metadata": {
    "collapsed": false
   },
   "outputs": [
    {
     "data": {
      "text/plain": [
       "113426.88792371213"
      ]
     },
     "execution_count": 180,
     "metadata": {},
     "output_type": "execute_result"
    }
   ],
   "source": [
    "inc_mse_8=1/n*sum((y-X_8*w_8).^2)"
   ]
  },
  {
   "cell_type": "code",
   "execution_count": 182,
   "metadata": {
    "collapsed": false
   },
   "outputs": [
    {
     "data": {
      "text/plain": [
       "10-element Array{Float64,1}:\n",
       "    3.03052   \n",
       "  176.641     \n",
       "  239.152     \n",
       "    0.00389547\n",
       "   -8.71758   \n",
       "    5.46129   \n",
       "   20.3193    \n",
       "   11.7786    \n",
       "    2.3344    \n",
       " -686.441     "
      ]
     },
     "execution_count": 182,
     "metadata": {},
     "output_type": "execute_result"
    }
   ],
   "source": [
    "X_9=[pricedata numday numroom distance reviewrate starrate prombool branbool locascore ones(n)]\n",
    "w_9=X_9\\y"
   ]
  },
  {
   "cell_type": "code",
   "execution_count": 183,
   "metadata": {
    "collapsed": false
   },
   "outputs": [
    {
     "data": {
      "text/plain": [
       "113352.2640259284"
      ]
     },
     "execution_count": 183,
     "metadata": {},
     "output_type": "execute_result"
    }
   ],
   "source": [
    "inc_mse_9=1/n*sum((y-X_9*w_9).^2)"
   ]
  },
  {
   "cell_type": "code",
   "execution_count": 185,
   "metadata": {
    "collapsed": false
   },
   "outputs": [
    {
     "data": {
      "text/plain": [
       "11-element Array{Float64,1}:\n",
       "    2.96344   \n",
       "  176.612     \n",
       "  239.077     \n",
       "    0.00338497\n",
       "    0.159115  \n",
       "   -9.64041   \n",
       "    3.55852   \n",
       "   20.4171    \n",
       "   12.5087    \n",
       "    1.85337   \n",
       " -693.074     "
      ]
     },
     "execution_count": 185,
     "metadata": {},
     "output_type": "execute_result"
    }
   ],
   "source": [
    "X_10=[pricedata numday numroom distance vis_price reviewrate starrate prombool branbool locascore ones(n)]\n",
    "w_10=X_10\\y"
   ]
  },
  {
   "cell_type": "code",
   "execution_count": 186,
   "metadata": {
    "collapsed": false
   },
   "outputs": [
    {
     "data": {
      "text/plain": [
       "113109.49484795812"
      ]
     },
     "execution_count": 186,
     "metadata": {},
     "output_type": "execute_result"
    }
   ],
   "source": [
    "inc_mse_10=1/n*sum((y-X_10*w_10).^2)"
   ]
  },
  {
   "cell_type": "code",
   "execution_count": 210,
   "metadata": {
    "collapsed": false
   },
   "outputs": [
    {
     "data": {
      "text/plain": [
       "9-element Array{Float64,1}:\n",
       "    2.99392 \n",
       "  176.363   \n",
       "  238.964   \n",
       "    5.45132 \n",
       "   20.4888  \n",
       "   12.9132  \n",
       "    1.81987 \n",
       "    0.458252\n",
       " -721.056   "
      ]
     },
     "execution_count": 210,
     "metadata": {},
     "output_type": "execute_result"
    }
   ],
   "source": [
    "X_11=[pricedata numday numroom starrate prombool branbool locascore book_wind ones(n)]\n",
    "w_11=X_11\\y"
   ]
  },
  {
   "cell_type": "code",
   "execution_count": 211,
   "metadata": {
    "collapsed": false
   },
   "outputs": [
    {
     "data": {
      "text/plain": [
       "113026.89605248196"
      ]
     },
     "execution_count": 211,
     "metadata": {},
     "output_type": "execute_result"
    }
   ],
   "source": [
    "inc_mse_11=1/n*sum((y-X_11*w_11).^2)"
   ]
  },
  {
   "cell_type": "code",
   "execution_count": null,
   "metadata": {
    "collapsed": true
   },
   "outputs": [],
   "source": []
  }
 ],
 "metadata": {
  "kernelspec": {
   "display_name": "Julia 0.5.0",
   "language": "julia",
   "name": "julia-0.5"
  },
  "language_info": {
   "file_extension": ".jl",
   "mimetype": "application/julia",
   "name": "julia",
   "version": "0.5.0"
  }
 },
 "nbformat": 4,
 "nbformat_minor": 0
}
